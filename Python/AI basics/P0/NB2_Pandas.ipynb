{
 "cells": [
  {
   "cell_type": "markdown",
   "id": "f4e1e08a",
   "metadata": {},
   "source": [
    "# Библиотека для численного анализа данных Pandas  \n",
    "**`Pandas`** — программная библиотека на языке Python для обработки и анализа данных. Предоставляет специальные структуры данных и операции для манипулирования числовыми таблицами и временными рядами. Используется для очистки и первичной оценки данных.  \n",
    "Не является полноценным пакетом статистической обработки, однако объекты **`DataFrame`** и **`Series`** применяются в качестве входных в большинстве модулей анализа данных и машинного обучения (SciPy, Scikit-Learn и других).  \n",
    "- Series — объект, используемый для работы с последовательностью одномерных данных.\n",
    "- Dataframe — объект, описывающий табличную (двумерную) структуру данных, состоящую из упорядоченной коллекции колонок. Каждая из колонок содержит значение определенного типа (числовое, строковое, булевое и так далее).  \n",
    "\n",
    "Работа pandas с данными строится поверх библиотеки NumPy, являющейся инструментом более низкого уровня.  \n",
    "Библиотека оптимизирована для высокой производительности, наиболее ресурсоемкие части кода написаны на Cython и Си.  \n",
    "В этом ноутбуке представлены только базовые функции, методы и параметры библиотеки, за более подробной информацией обращайтесь к документациии.  \n",
    "[Документация на библиотеку Pandas](https://pandas.pydata.org/pandas-docs/stable/)  \n",
    "## Данные для машинного обучения\n",
    "**Задача модели машинного обучения** - на основе известных параметров/признаков объекта отнести его к одному из классов (задача классификации) или предсказать  значение неизвестного параметра (задача регрессии).  \n",
    "Для обучения модели требуется **обучающая выборка**, которая содержит набор примеров. Каждый пример содержит набор известных признаков и эталонный отклик модели, т.е. правильный ответ. Его иногда называют **целевым параметром**.\n",
    "Для представления обучающей выборки обычно используется объект Dataframe. \n",
    "В этом случае каждая строка датафрейма представляет собой описание примера обучающей выборки; столбцы задают перечень признаков/параметров объекта. \n",
    "При этом один из параметров объекта является целевым"
   ]
  },
  {
   "cell_type": "markdown",
   "id": "7c314f11",
   "metadata": {},
   "source": [
    "**Основные возможности библиотеки:**  \n",
    "- Объект DataFrame для манипулирования индексированными массивами двумерных данных.\n",
    "- Инструменты для обмена данными между структурами в памяти и файлами различных форматов.\n",
    "- Встроенные средства совмещения данных и способы обработки отсутствующей информации.\n",
    "- Переформатирование наборов данных, в том числе создание сводных таблиц.\n",
    "- Срез данных по значениям индекса, расширенные возможности индексирования, выборка из больших наборов данных.\n",
    "- Вставка и удаление столбцов данных.\n",
    "- Возможности группировки позволяют выполнять трёхэтапные операции типа «разделение, изменение, объединение» (англ. split-apply-combine).\n",
    "- Слияние и объединение наборов данных.\n",
    "- Иерархическое индексирование позволяет работать с данными высокой размерности в структурах меньшей размерности.\n",
    "- Работа с временными рядами: формирование временных периодов и изменение интервалов и так далее."
   ]
  },
  {
   "cell_type": "markdown",
   "id": "13fe4272",
   "metadata": {},
   "source": [
    "#### Подключение библиотек"
   ]
  },
  {
   "cell_type": "code",
   "execution_count": 4,
   "id": "d01e5caf",
   "metadata": {},
   "outputs": [],
   "source": [
    "import pandas as pd\n",
    "import numpy as np"
   ]
  },
  {
   "cell_type": "markdown",
   "id": "14d7810a",
   "metadata": {},
   "source": [
    "#### Чтение из файла в формате csv  \n",
    "Одним из распространенных форматов хранения данных является формат CSV.\n",
    "CSV (от англ. Comma-Separated Values — значения, разделённые запятыми) — текстовый формат, предназначенный для представления табличных данных. Строка таблицы соответствует строке текста, которая содержит одно или несколько полей, разделенных запятыми.\n",
    "CSV-файлы можно создавать и редактировать в Excel. Данные, сохраненные в CSV-файле, можно легко переносить из одной программы в другую. \n",
    "Для чтения CSV-файлов в pandas используется метод **`.read_csv(<путь>, [<sep='разделитель'>])`** .  "
   ]
  },
  {
   "cell_type": "code",
   "execution_count": 6,
   "id": "058b6fa1",
   "metadata": {},
   "outputs": [],
   "source": [
    "data = pd.read_csv(\"Titanic_train.csv\") # датасет по пассажирам Титаника"
   ]
  },
  {
   "cell_type": "markdown",
   "id": "a061363f",
   "metadata": {},
   "source": [
    "В результате выполнения операции чтения создается объект Dataframe с указанным именем."
   ]
  },
  {
   "cell_type": "markdown",
   "id": "adb00daa",
   "metadata": {},
   "source": [
    "#### Несколько слов про датафрейм\n",
    "Dataframe можно воспринимать как словарь **`dict`**, состоящий из объектов **`Series`**, где ключи — названия колонок, а значения — объекты Series, которые формируют колонки самого объекта Dataframe. Наконец, все элементы в каждом объекте Series связаны в соответствии с массивом меток, называемым index. \n",
    "Таким образом, Dataframe имеет два списка меток. Первый - `index` - ассоциирован со строками (рядами). Второй - `columns` - содержит метки для каждой из колонок. Если метки строк явно не заданы в массиве `index`, pandas автоматически присваивает им числовую последовательность, начиная с нуля.  \n"
   ]
  },
  {
   "cell_type": "markdown",
   "id": "7f6b0083",
   "metadata": {},
   "source": [
    "#### Метод .head\n",
    "Позволяет проверить корректность считывания данных. Формат вызова:  \n",
    "**`.head([<число строк>])`**.\n",
    "При этом выведется заголовок считанной таблицы и указанное число строк с данными (по умолчанию 5)"
   ]
  },
  {
   "cell_type": "code",
   "execution_count": 10,
   "id": "0d465c8e",
   "metadata": {
    "scrolled": true
   },
   "outputs": [
    {
     "data": {
      "text/html": [
       "<div>\n",
       "<style scoped>\n",
       "    .dataframe tbody tr th:only-of-type {\n",
       "        vertical-align: middle;\n",
       "    }\n",
       "\n",
       "    .dataframe tbody tr th {\n",
       "        vertical-align: top;\n",
       "    }\n",
       "\n",
       "    .dataframe thead th {\n",
       "        text-align: right;\n",
       "    }\n",
       "</style>\n",
       "<table border=\"1\" class=\"dataframe\">\n",
       "  <thead>\n",
       "    <tr style=\"text-align: right;\">\n",
       "      <th></th>\n",
       "      <th>PassengerId</th>\n",
       "      <th>Survived</th>\n",
       "      <th>Pclass</th>\n",
       "      <th>Name</th>\n",
       "      <th>Gender</th>\n",
       "      <th>Age</th>\n",
       "      <th>SibSp</th>\n",
       "      <th>Parch</th>\n",
       "      <th>Ticket</th>\n",
       "      <th>Fare</th>\n",
       "      <th>Cabin</th>\n",
       "      <th>Embarked</th>\n",
       "    </tr>\n",
       "  </thead>\n",
       "  <tbody>\n",
       "    <tr>\n",
       "      <th>0</th>\n",
       "      <td>1</td>\n",
       "      <td>0</td>\n",
       "      <td>3</td>\n",
       "      <td>Braund, Mr. Owen Harris</td>\n",
       "      <td>male</td>\n",
       "      <td>22.0</td>\n",
       "      <td>1</td>\n",
       "      <td>0</td>\n",
       "      <td>A/5 21171</td>\n",
       "      <td>7.2500</td>\n",
       "      <td>NaN</td>\n",
       "      <td>S</td>\n",
       "    </tr>\n",
       "    <tr>\n",
       "      <th>1</th>\n",
       "      <td>2</td>\n",
       "      <td>1</td>\n",
       "      <td>1</td>\n",
       "      <td>Cumings, Mrs. John Bradley (Florence Briggs Th...</td>\n",
       "      <td>female</td>\n",
       "      <td>38.0</td>\n",
       "      <td>1</td>\n",
       "      <td>0</td>\n",
       "      <td>PC 17599</td>\n",
       "      <td>71.2833</td>\n",
       "      <td>C85</td>\n",
       "      <td>C</td>\n",
       "    </tr>\n",
       "    <tr>\n",
       "      <th>2</th>\n",
       "      <td>3</td>\n",
       "      <td>1</td>\n",
       "      <td>3</td>\n",
       "      <td>Heikkinen, Miss. Laina</td>\n",
       "      <td>female</td>\n",
       "      <td>26.0</td>\n",
       "      <td>0</td>\n",
       "      <td>0</td>\n",
       "      <td>STON/O2. 3101282</td>\n",
       "      <td>7.9250</td>\n",
       "      <td>NaN</td>\n",
       "      <td>S</td>\n",
       "    </tr>\n",
       "    <tr>\n",
       "      <th>3</th>\n",
       "      <td>4</td>\n",
       "      <td>1</td>\n",
       "      <td>1</td>\n",
       "      <td>Futrelle, Mrs. Jacques Heath (Lily May Peel)</td>\n",
       "      <td>female</td>\n",
       "      <td>35.0</td>\n",
       "      <td>1</td>\n",
       "      <td>0</td>\n",
       "      <td>113803</td>\n",
       "      <td>53.1000</td>\n",
       "      <td>C123</td>\n",
       "      <td>S</td>\n",
       "    </tr>\n",
       "    <tr>\n",
       "      <th>4</th>\n",
       "      <td>5</td>\n",
       "      <td>0</td>\n",
       "      <td>3</td>\n",
       "      <td>Allen, Mr. William Henry</td>\n",
       "      <td>male</td>\n",
       "      <td>35.0</td>\n",
       "      <td>0</td>\n",
       "      <td>0</td>\n",
       "      <td>373450</td>\n",
       "      <td>8.0500</td>\n",
       "      <td>NaN</td>\n",
       "      <td>S</td>\n",
       "    </tr>\n",
       "  </tbody>\n",
       "</table>\n",
       "</div>"
      ],
      "text/plain": [
       "   PassengerId  Survived  Pclass  \\\n",
       "0            1         0       3   \n",
       "1            2         1       1   \n",
       "2            3         1       3   \n",
       "3            4         1       1   \n",
       "4            5         0       3   \n",
       "\n",
       "                                                Name  Gender   Age  SibSp  \\\n",
       "0                            Braund, Mr. Owen Harris    male  22.0      1   \n",
       "1  Cumings, Mrs. John Bradley (Florence Briggs Th...  female  38.0      1   \n",
       "2                             Heikkinen, Miss. Laina  female  26.0      0   \n",
       "3       Futrelle, Mrs. Jacques Heath (Lily May Peel)  female  35.0      1   \n",
       "4                           Allen, Mr. William Henry    male  35.0      0   \n",
       "\n",
       "   Parch            Ticket     Fare Cabin Embarked  \n",
       "0      0         A/5 21171   7.2500   NaN        S  \n",
       "1      0          PC 17599  71.2833   C85        C  \n",
       "2      0  STON/O2. 3101282   7.9250   NaN        S  \n",
       "3      0            113803  53.1000  C123        S  \n",
       "4      0            373450   8.0500   NaN        S  "
      ]
     },
     "execution_count": 10,
     "metadata": {},
     "output_type": "execute_result"
    }
   ],
   "source": [
    "data.head() # есть еще и метод .tail - угадайте, что он делает ;) ?"
   ]
  },
  {
   "cell_type": "markdown",
   "id": "1f11577f",
   "metadata": {},
   "source": [
    "#### Метод .describe()\n",
    "Используется для \"понимания данных\" с точки зрения статистики. Выводит сводную статистику для всех  столбцов, содержащих **числовые значения**: количество значений, среднее значение, стандартное отклонение, диапазон и квартили."
   ]
  },
  {
   "cell_type": "code",
   "execution_count": 12,
   "id": "eeb17932",
   "metadata": {},
   "outputs": [
    {
     "data": {
      "text/html": [
       "<div>\n",
       "<style scoped>\n",
       "    .dataframe tbody tr th:only-of-type {\n",
       "        vertical-align: middle;\n",
       "    }\n",
       "\n",
       "    .dataframe tbody tr th {\n",
       "        vertical-align: top;\n",
       "    }\n",
       "\n",
       "    .dataframe thead th {\n",
       "        text-align: right;\n",
       "    }\n",
       "</style>\n",
       "<table border=\"1\" class=\"dataframe\">\n",
       "  <thead>\n",
       "    <tr style=\"text-align: right;\">\n",
       "      <th></th>\n",
       "      <th>count</th>\n",
       "      <th>mean</th>\n",
       "      <th>std</th>\n",
       "      <th>min</th>\n",
       "      <th>25%</th>\n",
       "      <th>50%</th>\n",
       "      <th>75%</th>\n",
       "      <th>max</th>\n",
       "    </tr>\n",
       "  </thead>\n",
       "  <tbody>\n",
       "    <tr>\n",
       "      <th>PassengerId</th>\n",
       "      <td>891.0</td>\n",
       "      <td>446.000000</td>\n",
       "      <td>257.353842</td>\n",
       "      <td>1.00</td>\n",
       "      <td>223.5000</td>\n",
       "      <td>446.0000</td>\n",
       "      <td>668.5</td>\n",
       "      <td>891.0000</td>\n",
       "    </tr>\n",
       "    <tr>\n",
       "      <th>Survived</th>\n",
       "      <td>891.0</td>\n",
       "      <td>0.383838</td>\n",
       "      <td>0.486592</td>\n",
       "      <td>0.00</td>\n",
       "      <td>0.0000</td>\n",
       "      <td>0.0000</td>\n",
       "      <td>1.0</td>\n",
       "      <td>1.0000</td>\n",
       "    </tr>\n",
       "    <tr>\n",
       "      <th>Pclass</th>\n",
       "      <td>891.0</td>\n",
       "      <td>2.308642</td>\n",
       "      <td>0.836071</td>\n",
       "      <td>1.00</td>\n",
       "      <td>2.0000</td>\n",
       "      <td>3.0000</td>\n",
       "      <td>3.0</td>\n",
       "      <td>3.0000</td>\n",
       "    </tr>\n",
       "    <tr>\n",
       "      <th>Age</th>\n",
       "      <td>714.0</td>\n",
       "      <td>29.699118</td>\n",
       "      <td>14.526497</td>\n",
       "      <td>0.42</td>\n",
       "      <td>20.1250</td>\n",
       "      <td>28.0000</td>\n",
       "      <td>38.0</td>\n",
       "      <td>80.0000</td>\n",
       "    </tr>\n",
       "    <tr>\n",
       "      <th>SibSp</th>\n",
       "      <td>891.0</td>\n",
       "      <td>0.523008</td>\n",
       "      <td>1.102743</td>\n",
       "      <td>0.00</td>\n",
       "      <td>0.0000</td>\n",
       "      <td>0.0000</td>\n",
       "      <td>1.0</td>\n",
       "      <td>8.0000</td>\n",
       "    </tr>\n",
       "    <tr>\n",
       "      <th>Parch</th>\n",
       "      <td>891.0</td>\n",
       "      <td>0.381594</td>\n",
       "      <td>0.806057</td>\n",
       "      <td>0.00</td>\n",
       "      <td>0.0000</td>\n",
       "      <td>0.0000</td>\n",
       "      <td>0.0</td>\n",
       "      <td>6.0000</td>\n",
       "    </tr>\n",
       "    <tr>\n",
       "      <th>Fare</th>\n",
       "      <td>891.0</td>\n",
       "      <td>32.204208</td>\n",
       "      <td>49.693429</td>\n",
       "      <td>0.00</td>\n",
       "      <td>7.9104</td>\n",
       "      <td>14.4542</td>\n",
       "      <td>31.0</td>\n",
       "      <td>512.3292</td>\n",
       "    </tr>\n",
       "  </tbody>\n",
       "</table>\n",
       "</div>"
      ],
      "text/plain": [
       "             count        mean         std   min       25%       50%    75%  \\\n",
       "PassengerId  891.0  446.000000  257.353842  1.00  223.5000  446.0000  668.5   \n",
       "Survived     891.0    0.383838    0.486592  0.00    0.0000    0.0000    1.0   \n",
       "Pclass       891.0    2.308642    0.836071  1.00    2.0000    3.0000    3.0   \n",
       "Age          714.0   29.699118   14.526497  0.42   20.1250   28.0000   38.0   \n",
       "SibSp        891.0    0.523008    1.102743  0.00    0.0000    0.0000    1.0   \n",
       "Parch        891.0    0.381594    0.806057  0.00    0.0000    0.0000    0.0   \n",
       "Fare         891.0   32.204208   49.693429  0.00    7.9104   14.4542   31.0   \n",
       "\n",
       "                  max  \n",
       "PassengerId  891.0000  \n",
       "Survived       1.0000  \n",
       "Pclass         3.0000  \n",
       "Age           80.0000  \n",
       "SibSp          8.0000  \n",
       "Parch          6.0000  \n",
       "Fare         512.3292  "
      ]
     },
     "execution_count": 12,
     "metadata": {},
     "output_type": "execute_result"
    }
   ],
   "source": [
    "data.describe().T\n",
    "# если добавить атрибут .T (describe().T), таблица будет транспонирована"
   ]
  },
  {
   "cell_type": "markdown",
   "id": "8ccf481a",
   "metadata": {},
   "source": [
    "#### Метод .info()\n",
    "Метод `.info()` — это быстрый способ посмотреть типы данных, пропущенные значения и размер данных в DataFrame.  \n",
    "У метода есть полезные аргументы - смотри документацию!"
   ]
  },
  {
   "cell_type": "code",
   "execution_count": 14,
   "id": "955d676a",
   "metadata": {
    "scrolled": true
   },
   "outputs": [
    {
     "name": "stdout",
     "output_type": "stream",
     "text": [
      "<class 'pandas.core.frame.DataFrame'>\n",
      "RangeIndex: 891 entries, 0 to 890\n",
      "Data columns (total 12 columns):\n",
      " #   Column       Non-Null Count  Dtype  \n",
      "---  ------       --------------  -----  \n",
      " 0   PassengerId  891 non-null    int64  \n",
      " 1   Survived     891 non-null    int64  \n",
      " 2   Pclass       891 non-null    int64  \n",
      " 3   Name         891 non-null    object \n",
      " 4   Gender       891 non-null    object \n",
      " 5   Age          714 non-null    float64\n",
      " 6   SibSp        891 non-null    int64  \n",
      " 7   Parch        891 non-null    int64  \n",
      " 8   Ticket       891 non-null    object \n",
      " 9   Fare         891 non-null    float64\n",
      " 10  Cabin        204 non-null    object \n",
      " 11  Embarked     889 non-null    object \n",
      "dtypes: float64(2), int64(5), object(5)\n",
      "memory usage: 83.7+ KB\n"
     ]
    }
   ],
   "source": [
    "data.info()"
   ]
  },
  {
   "cell_type": "markdown",
   "id": "70d4776b",
   "metadata": {},
   "source": [
    "#### Понимание структуры данных  \n",
    "Атрибут **`.shape`** возвращает набор значений - кортеж, содержащий параметры (число строк, число столбцов).  \n",
    "Атрибут **`.columns`** объекта DataFrame возвращает имена столбцов в виде объекта Index (что индекс в pandas — это метка строки или столбца). При необходимости его можно преобразовать в список с помощью функции **`list()`**. \n",
    "Атрибут **`.index`** возвращает индексы строк.  \n",
    "Указав в квадратных скобках название колонки, можно получить значений в ней. Возвращаемое значение — объект Series.   \n",
    "Для обращения к значениям строк внутри Dataframe используется атрибут loc со указанием индекса нужной строки."
   ]
  },
  {
   "cell_type": "code",
   "execution_count": 16,
   "id": "154ce56a",
   "metadata": {},
   "outputs": [
    {
     "name": "stdout",
     "output_type": "stream",
     "text": [
      "(891, 12)\n",
      "Всего объектов :  891\n"
     ]
    }
   ],
   "source": [
    "print(data.shape) # Получить число строк и столбцов\n",
    "print('Всего объектов : ', data.shape[0]) # Вывести только число строк"
   ]
  },
  {
   "cell_type": "code",
   "execution_count": 17,
   "id": "3ae0c42e",
   "metadata": {},
   "outputs": [
    {
     "name": "stdout",
     "output_type": "stream",
     "text": [
      "Всего признаков :  12\n"
     ]
    }
   ],
   "source": [
    "print('Всего признаков : ', data.shape[1]) # Вывести только число столбцов"
   ]
  },
  {
   "cell_type": "code",
   "execution_count": 18,
   "id": "e55c6ba8",
   "metadata": {},
   "outputs": [
    {
     "name": "stdout",
     "output_type": "stream",
     "text": [
      "Названия признаков :  ['PassengerId', 'Survived', 'Pclass', 'Name', 'Gender', 'Age', 'SibSp', 'Parch', 'Ticket', 'Fare', 'Cabin', 'Embarked']\n"
     ]
    }
   ],
   "source": [
    "print('Названия признаков : ', list(data.columns)) # Вывести названия столбцов"
   ]
  },
  {
   "cell_type": "code",
   "execution_count": 19,
   "id": "deda1dbe",
   "metadata": {},
   "outputs": [
    {
     "name": "stdout",
     "output_type": "stream",
     "text": [
      "Значения индексов :  RangeIndex(start=0, stop=891, step=1)\n"
     ]
    }
   ],
   "source": [
    "print('Значения индексов : ', data.index ) # Вывести значения индексов"
   ]
  },
  {
   "cell_type": "code",
   "execution_count": 20,
   "id": "2c541682",
   "metadata": {},
   "outputs": [
    {
     "name": "stdout",
     "output_type": "stream",
     "text": [
      "Значения признака Пол для каждого пассажира: \n",
      " 0        male\n",
      "1      female\n",
      "2      female\n",
      "3      female\n",
      "4        male\n",
      "        ...  \n",
      "886      male\n",
      "887    female\n",
      "888    female\n",
      "889      male\n",
      "890      male\n",
      "Name: Gender, Length: 891, dtype: object \n",
      "\n"
     ]
    }
   ],
   "source": [
    "print ('Значения признака Пол для каждого пассажира: \\n', data['Gender'],'\\n')"
   ]
  },
  {
   "cell_type": "code",
   "execution_count": 21,
   "id": "ea06bcbc",
   "metadata": {},
   "outputs": [
    {
     "name": "stdout",
     "output_type": "stream",
     "text": [
      "Сведения о пассажире №10: \n",
      " PassengerId                                     10\n",
      "Survived                                         1\n",
      "Pclass                                           2\n",
      "Name           Nasser, Mrs. Nicholas (Adele Achem)\n",
      "Gender                                      female\n",
      "Age                                           14.0\n",
      "SibSp                                            1\n",
      "Parch                                            0\n",
      "Ticket                                      237736\n",
      "Fare                                       30.0708\n",
      "Cabin                                          NaN\n",
      "Embarked                                         C\n",
      "Name: 9, dtype: object\n"
     ]
    }
   ],
   "source": [
    "print('Сведения о пассажире №10: \\n', data.loc[9]) \n",
    "#Вывод данных пассажира с номером 10"
   ]
  },
  {
   "cell_type": "markdown",
   "id": "1be60f07",
   "metadata": {},
   "source": [
    "**Обратите внимание!** в выводе данных по пассажиру 10 номер каюты указан NaN.\n",
    "Это означает, что этот признак для данного объекта не определен.  \n",
    "\n",
    "Метод **`.value_counts()`** подсчитывает число значений в колонке.  \n",
    "Метод **`.unique()`**  формирует список уникальных значений (например, в колонке)."
   ]
  },
  {
   "cell_type": "code",
   "execution_count": 23,
   "id": "3ce00ee7",
   "metadata": {
    "scrolled": true
   },
   "outputs": [
    {
     "name": "stdout",
     "output_type": "stream",
     "text": [
      "Возможные значения признака Survived:  [0 1]\n",
      "Survived\n",
      "0    549\n",
      "1    342\n",
      "Name: count, dtype: int64\n"
     ]
    }
   ],
   "source": [
    "print('Возможные значения признака Survived: ',data['Survived'].unique())\n",
    "print(data['Survived'].value_counts()) # попробуйте вывести возраст"
   ]
  },
  {
   "cell_type": "markdown",
   "id": "f280016c",
   "metadata": {},
   "source": [
    "Полученную информацию уже интересно визуализировать, т.е. отобразить на графике или диаграмме"
   ]
  },
  {
   "cell_type": "markdown",
   "id": "5b3748ca",
   "metadata": {},
   "source": [
    "#### Некоторые полезные статистические функции\n",
    "Метод **`.mean()`** возвращает среднее значение.  \n",
    "Метод **`.median()`** возвращает медиану.  \n",
    "Метод **`.mode()`** возвращает моду - наиболее часто встречающееся значение.  \n",
    "Метод **`.count()`** возвращает количество значений за исключением неопределенных (отсутствующих).  \n",
    "Метод **`.std()`** возвращает стандартное отклонение значений.  \n",
    "Методы **`.min`** и **`.max`** возвращают минимум и максимум соответственно."
   ]
  },
  {
   "cell_type": "code",
   "execution_count": 26,
   "id": "39727755",
   "metadata": {
    "scrolled": true
   },
   "outputs": [
    {
     "name": "stdout",
     "output_type": "stream",
     "text": [
      "Данные о возрасте пассажиров\n",
      "Средний возраст :  29.69911764705882\n",
      "Минимальный возраст :  0.42\n",
      "Максимальный возраст :  80.0\n"
     ]
    }
   ],
   "source": [
    "print('Данные о возрасте пассажиров')\n",
    "print('Средний возраст : ',data['Age'].mean())\n",
    "print('Минимальный возраст : ',data['Age'].min())\n",
    "print('Максимальный возраст : ',data['Age'].max())"
   ]
  },
  {
   "cell_type": "markdown",
   "id": "c9aeeb87",
   "metadata": {},
   "source": [
    "#### Обнаружение недостающих данных\n",
    "Выше мы уже сталкивались с ситуацией, когда данные о каком-либо признаке объекта/примера отсутствуют (надеюсь, вы понимаете разницу между нулевым и отсутствующим значением :) ).  \n",
    "Это происходит достаточно часто, и с точки зрения обработки данных и машинного обучения является проблемой. Поэтому важно уметь находить пропущенные данные и решать, что с ними делать.  \n",
    "Метод **`.isnull()`** возвращает логическое значение: True означает, что значение отсутствуюет, а False означает, что соответствующее значение в DataFrame определено.  \n",
    "Метод **`.notnull()`**  действует наоборот."
   ]
  },
  {
   "cell_type": "code",
   "execution_count": 28,
   "id": "b3fffe9e",
   "metadata": {},
   "outputs": [
    {
     "data": {
      "text/html": [
       "<div>\n",
       "<style scoped>\n",
       "    .dataframe tbody tr th:only-of-type {\n",
       "        vertical-align: middle;\n",
       "    }\n",
       "\n",
       "    .dataframe tbody tr th {\n",
       "        vertical-align: top;\n",
       "    }\n",
       "\n",
       "    .dataframe thead th {\n",
       "        text-align: right;\n",
       "    }\n",
       "</style>\n",
       "<table border=\"1\" class=\"dataframe\">\n",
       "  <thead>\n",
       "    <tr style=\"text-align: right;\">\n",
       "      <th></th>\n",
       "      <th>PassengerId</th>\n",
       "      <th>Survived</th>\n",
       "      <th>Pclass</th>\n",
       "      <th>Name</th>\n",
       "      <th>Gender</th>\n",
       "      <th>Age</th>\n",
       "      <th>SibSp</th>\n",
       "      <th>Parch</th>\n",
       "      <th>Ticket</th>\n",
       "      <th>Fare</th>\n",
       "      <th>Cabin</th>\n",
       "      <th>Embarked</th>\n",
       "    </tr>\n",
       "  </thead>\n",
       "  <tbody>\n",
       "    <tr>\n",
       "      <th>0</th>\n",
       "      <td>False</td>\n",
       "      <td>False</td>\n",
       "      <td>False</td>\n",
       "      <td>False</td>\n",
       "      <td>False</td>\n",
       "      <td>False</td>\n",
       "      <td>False</td>\n",
       "      <td>False</td>\n",
       "      <td>False</td>\n",
       "      <td>False</td>\n",
       "      <td>True</td>\n",
       "      <td>False</td>\n",
       "    </tr>\n",
       "    <tr>\n",
       "      <th>1</th>\n",
       "      <td>False</td>\n",
       "      <td>False</td>\n",
       "      <td>False</td>\n",
       "      <td>False</td>\n",
       "      <td>False</td>\n",
       "      <td>False</td>\n",
       "      <td>False</td>\n",
       "      <td>False</td>\n",
       "      <td>False</td>\n",
       "      <td>False</td>\n",
       "      <td>False</td>\n",
       "      <td>False</td>\n",
       "    </tr>\n",
       "    <tr>\n",
       "      <th>2</th>\n",
       "      <td>False</td>\n",
       "      <td>False</td>\n",
       "      <td>False</td>\n",
       "      <td>False</td>\n",
       "      <td>False</td>\n",
       "      <td>False</td>\n",
       "      <td>False</td>\n",
       "      <td>False</td>\n",
       "      <td>False</td>\n",
       "      <td>False</td>\n",
       "      <td>True</td>\n",
       "      <td>False</td>\n",
       "    </tr>\n",
       "    <tr>\n",
       "      <th>3</th>\n",
       "      <td>False</td>\n",
       "      <td>False</td>\n",
       "      <td>False</td>\n",
       "      <td>False</td>\n",
       "      <td>False</td>\n",
       "      <td>False</td>\n",
       "      <td>False</td>\n",
       "      <td>False</td>\n",
       "      <td>False</td>\n",
       "      <td>False</td>\n",
       "      <td>False</td>\n",
       "      <td>False</td>\n",
       "    </tr>\n",
       "    <tr>\n",
       "      <th>4</th>\n",
       "      <td>False</td>\n",
       "      <td>False</td>\n",
       "      <td>False</td>\n",
       "      <td>False</td>\n",
       "      <td>False</td>\n",
       "      <td>False</td>\n",
       "      <td>False</td>\n",
       "      <td>False</td>\n",
       "      <td>False</td>\n",
       "      <td>False</td>\n",
       "      <td>True</td>\n",
       "      <td>False</td>\n",
       "    </tr>\n",
       "  </tbody>\n",
       "</table>\n",
       "</div>"
      ],
      "text/plain": [
       "   PassengerId  Survived  Pclass   Name  Gender    Age  SibSp  Parch  Ticket  \\\n",
       "0        False     False   False  False   False  False  False  False   False   \n",
       "1        False     False   False  False   False  False  False  False   False   \n",
       "2        False     False   False  False   False  False  False  False   False   \n",
       "3        False     False   False  False   False  False  False  False   False   \n",
       "4        False     False   False  False   False  False  False  False   False   \n",
       "\n",
       "    Fare  Cabin  Embarked  \n",
       "0  False   True     False  \n",
       "1  False  False     False  \n",
       "2  False   True     False  \n",
       "3  False  False     False  \n",
       "4  False   True     False  "
      ]
     },
     "execution_count": 28,
     "metadata": {},
     "output_type": "execute_result"
    }
   ],
   "source": [
    "(data.isnull()).head()"
   ]
  },
  {
   "cell_type": "code",
   "execution_count": 29,
   "id": "eb7e0927",
   "metadata": {},
   "outputs": [
    {
     "data": {
      "text/html": [
       "<div>\n",
       "<style scoped>\n",
       "    .dataframe tbody tr th:only-of-type {\n",
       "        vertical-align: middle;\n",
       "    }\n",
       "\n",
       "    .dataframe tbody tr th {\n",
       "        vertical-align: top;\n",
       "    }\n",
       "\n",
       "    .dataframe thead th {\n",
       "        text-align: right;\n",
       "    }\n",
       "</style>\n",
       "<table border=\"1\" class=\"dataframe\">\n",
       "  <thead>\n",
       "    <tr style=\"text-align: right;\">\n",
       "      <th></th>\n",
       "      <th>PassengerId</th>\n",
       "      <th>Survived</th>\n",
       "      <th>Pclass</th>\n",
       "      <th>Name</th>\n",
       "      <th>Gender</th>\n",
       "      <th>Age</th>\n",
       "      <th>SibSp</th>\n",
       "      <th>Parch</th>\n",
       "      <th>Ticket</th>\n",
       "      <th>Fare</th>\n",
       "      <th>Cabin</th>\n",
       "      <th>Embarked</th>\n",
       "    </tr>\n",
       "  </thead>\n",
       "  <tbody>\n",
       "    <tr>\n",
       "      <th>0</th>\n",
       "      <td>True</td>\n",
       "      <td>True</td>\n",
       "      <td>True</td>\n",
       "      <td>True</td>\n",
       "      <td>True</td>\n",
       "      <td>True</td>\n",
       "      <td>True</td>\n",
       "      <td>True</td>\n",
       "      <td>True</td>\n",
       "      <td>True</td>\n",
       "      <td>False</td>\n",
       "      <td>True</td>\n",
       "    </tr>\n",
       "    <tr>\n",
       "      <th>1</th>\n",
       "      <td>True</td>\n",
       "      <td>True</td>\n",
       "      <td>True</td>\n",
       "      <td>True</td>\n",
       "      <td>True</td>\n",
       "      <td>True</td>\n",
       "      <td>True</td>\n",
       "      <td>True</td>\n",
       "      <td>True</td>\n",
       "      <td>True</td>\n",
       "      <td>True</td>\n",
       "      <td>True</td>\n",
       "    </tr>\n",
       "    <tr>\n",
       "      <th>2</th>\n",
       "      <td>True</td>\n",
       "      <td>True</td>\n",
       "      <td>True</td>\n",
       "      <td>True</td>\n",
       "      <td>True</td>\n",
       "      <td>True</td>\n",
       "      <td>True</td>\n",
       "      <td>True</td>\n",
       "      <td>True</td>\n",
       "      <td>True</td>\n",
       "      <td>False</td>\n",
       "      <td>True</td>\n",
       "    </tr>\n",
       "    <tr>\n",
       "      <th>3</th>\n",
       "      <td>True</td>\n",
       "      <td>True</td>\n",
       "      <td>True</td>\n",
       "      <td>True</td>\n",
       "      <td>True</td>\n",
       "      <td>True</td>\n",
       "      <td>True</td>\n",
       "      <td>True</td>\n",
       "      <td>True</td>\n",
       "      <td>True</td>\n",
       "      <td>True</td>\n",
       "      <td>True</td>\n",
       "    </tr>\n",
       "    <tr>\n",
       "      <th>4</th>\n",
       "      <td>True</td>\n",
       "      <td>True</td>\n",
       "      <td>True</td>\n",
       "      <td>True</td>\n",
       "      <td>True</td>\n",
       "      <td>True</td>\n",
       "      <td>True</td>\n",
       "      <td>True</td>\n",
       "      <td>True</td>\n",
       "      <td>True</td>\n",
       "      <td>False</td>\n",
       "      <td>True</td>\n",
       "    </tr>\n",
       "  </tbody>\n",
       "</table>\n",
       "</div>"
      ],
      "text/plain": [
       "   PassengerId  Survived  Pclass  Name  Gender   Age  SibSp  Parch  Ticket  \\\n",
       "0         True      True    True  True    True  True   True   True    True   \n",
       "1         True      True    True  True    True  True   True   True    True   \n",
       "2         True      True    True  True    True  True   True   True    True   \n",
       "3         True      True    True  True    True  True   True   True    True   \n",
       "4         True      True    True  True    True  True   True   True    True   \n",
       "\n",
       "   Fare  Cabin  Embarked  \n",
       "0  True  False      True  \n",
       "1  True   True      True  \n",
       "2  True  False      True  \n",
       "3  True   True      True  \n",
       "4  True  False      True  "
      ]
     },
     "execution_count": 29,
     "metadata": {},
     "output_type": "execute_result"
    }
   ],
   "source": [
    "(data.notnull()).head()"
   ]
  },
  {
   "cell_type": "markdown",
   "id": "63b910bd",
   "metadata": {},
   "source": [
    "Обычно при анализе данных нас интересует количество неопределенных значений параметров в целом по выборке. Для этого нужно просто просуммировать значения."
   ]
  },
  {
   "cell_type": "code",
   "execution_count": 31,
   "id": "0afd2995",
   "metadata": {},
   "outputs": [
    {
     "name": "stdout",
     "output_type": "stream",
     "text": [
      "PassengerId      0\n",
      "Survived         0\n",
      "Pclass           0\n",
      "Name             0\n",
      "Gender           0\n",
      "Age            177\n",
      "SibSp            0\n",
      "Parch            0\n",
      "Ticket           0\n",
      "Fare             0\n",
      "Cabin          687\n",
      "Embarked         2\n",
      "dtype: int64\n",
      "Данные о возрасте отсутствуют у  177  пассажиров\n"
     ]
    }
   ],
   "source": [
    "print(data.isnull().sum())\n",
    "print('Данные о возрасте отсутствуют у ',data['Age'].isnull().sum(),' пассажиров')"
   ]
  },
  {
   "cell_type": "markdown",
   "id": "6b6f28bc",
   "metadata": {},
   "source": [
    "### Редактирование датафрейма\n",
    "Обычно по результатам предварительного знакомства с датасетом и разведочного анализа данных исходные данные нуждаются в обработке: кодировке и очистке.\n",
    "Можно изменять непосредственно датафрейм, созданный в результате чтения из файла, но хорошей практикой считается создание его копии.\n",
    "Те, кто уже изучал Python, занют, что простой конструкцией вида `train = data` здесь не обойтись. При выполнении этой команды появится переменная `train`, которая фактически является указателем и она будет указывать на тот же самый датафрейм. Проверим:"
   ]
  },
  {
   "cell_type": "code",
   "execution_count": 33,
   "id": "e5ff1a67",
   "metadata": {},
   "outputs": [
    {
     "name": "stdout",
     "output_type": "stream",
     "text": [
      "PC 17599\n",
      "PC 17599\n",
      "10000\n",
      "10000\n"
     ]
    }
   ],
   "source": [
    "train = data # создаем переменную\n",
    "print(data.loc[1,'Ticket']) # выводим номер билета пассажира №1\n",
    "print(train.loc[1,'Ticket']) \n",
    "train.loc[1,'Ticket']='10000' # меняем номер билета, используя новую переменную\n",
    "print(data.loc[1,'Ticket']) #убеждаемся, что значение изменилось в обоих случаях\n",
    "print(train.loc[1,'Ticket'])"
   ]
  },
  {
   "cell_type": "markdown",
   "id": "218f114f",
   "metadata": {},
   "source": [
    "Метод **`.copy()`**  создает копию исходного DataFrame.  "
   ]
  },
  {
   "cell_type": "code",
   "execution_count": 35,
   "id": "a66bb324",
   "metadata": {},
   "outputs": [
    {
     "name": "stdout",
     "output_type": "stream",
     "text": [
      "<class 'pandas.core.frame.DataFrame'>\n",
      "RangeIndex: 891 entries, 0 to 890\n",
      "Data columns (total 12 columns):\n",
      " #   Column       Non-Null Count  Dtype  \n",
      "---  ------       --------------  -----  \n",
      " 0   PassengerId  891 non-null    int64  \n",
      " 1   Survived     891 non-null    int64  \n",
      " 2   Pclass       891 non-null    int64  \n",
      " 3   Name         891 non-null    object \n",
      " 4   Gender       891 non-null    object \n",
      " 5   Age          714 non-null    float64\n",
      " 6   SibSp        891 non-null    int64  \n",
      " 7   Parch        891 non-null    int64  \n",
      " 8   Ticket       891 non-null    object \n",
      " 9   Fare         891 non-null    float64\n",
      " 10  Cabin        204 non-null    object \n",
      " 11  Embarked     889 non-null    object \n",
      "dtypes: float64(2), int64(5), object(5)\n",
      "memory usage: 83.7+ KB\n"
     ]
    }
   ],
   "source": [
    "big_train = data.copy()\n",
    "big_train.info()"
   ]
  },
  {
   "cell_type": "markdown",
   "id": "cb6bd3a7",
   "metadata": {},
   "source": [
    "Другой вариант - создание нового датафрейма из подмножества столбцов исходного.\n",
    "Это может пригодиться, если требуется отобрать в новый датафрейм несколько столбцов исходного, но при этом не хочется выписывать имена столбцов, которые нужно удалить."
   ]
  },
  {
   "cell_type": "code",
   "execution_count": 37,
   "id": "0e2e9d2e",
   "metadata": {},
   "outputs": [
    {
     "name": "stdout",
     "output_type": "stream",
     "text": [
      "<class 'pandas.core.frame.DataFrame'>\n",
      "RangeIndex: 891 entries, 0 to 890\n",
      "Data columns (total 7 columns):\n",
      " #   Column       Non-Null Count  Dtype  \n",
      "---  ------       --------------  -----  \n",
      " 0   PassengerId  891 non-null    int64  \n",
      " 1   Survived     891 non-null    int64  \n",
      " 2   Pclass       891 non-null    int64  \n",
      " 3   Gender       891 non-null    object \n",
      " 4   Age          714 non-null    float64\n",
      " 5   Fare         891 non-null    float64\n",
      " 6   Cabin        204 non-null    object \n",
      "dtypes: float64(2), int64(3), object(2)\n",
      "memory usage: 48.9+ KB\n"
     ]
    }
   ],
   "source": [
    "train = data[['PassengerId','Survived','Pclass','Gender','Age','Fare','Cabin']]\n",
    "train.info() # проверим, что получилось"
   ]
  },
  {
   "cell_type": "markdown",
   "id": "76325eba",
   "metadata": {},
   "source": [
    "Один из шагов подготовки данных заключается в корректировке данных, имеющих неопределенное значение (как их находить, мы рассмотрели выше).  \n",
    "Метод **`.dropna()`** создает из исходного датафрейма новый, из которого удалены строки, содержащие неопределенное значение."
   ]
  },
  {
   "cell_type": "code",
   "execution_count": 39,
   "id": "e62f88ce",
   "metadata": {},
   "outputs": [
    {
     "name": "stdout",
     "output_type": "stream",
     "text": [
      "Количество строк исходного датафрейма: 891\n",
      "Количество строк полученного датафрейма: 183\n"
     ]
    }
   ],
   "source": [
    "print(\"Количество строк исходного датафрейма:\", big_train.shape[0])\n",
    "big_train = big_train.dropna() #\n",
    "print(\"Количество строк полученного датафрейма:\", big_train.shape[0])"
   ]
  },
  {
   "cell_type": "markdown",
   "id": "aea3507d",
   "metadata": {},
   "source": [
    "Обратите внимание, что после удаления объектов (строк) с неопределенными параметрами размер полученного датафрейма значительно уменьшился. Это может привести к серьезной потере данных.  \n",
    "Другим вариантом является удаление столбцов (признаков), если они является неопределенными у значительного числа объектов. В нашем примере это столбец с номером билета.  \n",
    "Метод **'train.drop(<метка строки или название столбца>, axis=<0 - строка, 1 - столбец>)'** создает новый датафрейм без указанных строк или столбцов."
   ]
  },
  {
   "cell_type": "code",
   "execution_count": 41,
   "id": "9e5381f8",
   "metadata": {},
   "outputs": [
    {
     "name": "stdout",
     "output_type": "stream",
     "text": [
      "<class 'pandas.core.frame.DataFrame'>\n",
      "RangeIndex: 891 entries, 0 to 890\n",
      "Data columns (total 6 columns):\n",
      " #   Column       Non-Null Count  Dtype  \n",
      "---  ------       --------------  -----  \n",
      " 0   PassengerId  891 non-null    int64  \n",
      " 1   Survived     891 non-null    int64  \n",
      " 2   Pclass       891 non-null    int64  \n",
      " 3   Gender       891 non-null    object \n",
      " 4   Age          714 non-null    float64\n",
      " 5   Fare         891 non-null    float64\n",
      "dtypes: float64(2), int64(3), object(1)\n",
      "memory usage: 41.9+ KB\n"
     ]
    }
   ],
   "source": [
    "train_clean=train.drop('Cabin', axis=1) # исключим столбец с номером каюты\n",
    "train_clean.info() # проверим, что получилось"
   ]
  },
  {
   "cell_type": "markdown",
   "id": "f93e1cd3",
   "metadata": {},
   "source": [
    "Однако это тоже приводит к потере данных, поэтому отсутствующие данные часто пытаются заполнить каким-либо разумным способом.  \n",
    "Одним из вариантов (но не единственным и не всегда лучшим) может быть замена отсутствующего признака на среднее значение по столбцу.  \n",
    "Метод **`.fillna()`** заменяет неопределенные (NaN) значения  некоторым значением."
   ]
  },
  {
   "cell_type": "code",
   "execution_count": 43,
   "id": "8f427389-e664-4e0b-855d-35dbadb9fd72",
   "metadata": {},
   "outputs": [
    {
     "name": "stdout",
     "output_type": "stream",
     "text": [
      "29.69911764705882\n",
      "<class 'pandas.core.frame.DataFrame'>\n",
      "RangeIndex: 891 entries, 0 to 890\n",
      "Data columns (total 6 columns):\n",
      " #   Column       Non-Null Count  Dtype  \n",
      "---  ------       --------------  -----  \n",
      " 0   PassengerId  891 non-null    int64  \n",
      " 1   Survived     891 non-null    int64  \n",
      " 2   Pclass       891 non-null    int64  \n",
      " 3   Gender       891 non-null    object \n",
      " 4   Age          891 non-null    float64\n",
      " 5   Fare         891 non-null    float64\n",
      "dtypes: float64(2), int64(3), object(1)\n",
      "memory usage: 41.9+ KB\n"
     ]
    }
   ],
   "source": [
    "mean_age = np.mean(train_clean['Age'])\n",
    "print(mean_age)\n",
    "# train_clean['Age'].fillna(mean_age, inplace = True) \n",
    "train_clean.fillna ({'Age': mean_age}, inplace = True) \n",
    "#inplace = True означает, что исходный датафрейм будет заменен отредактированным\n",
    "train_clean.info() # проверим, все ли значения заполнены"
   ]
  },
  {
   "cell_type": "markdown",
   "id": "7347c5e4",
   "metadata": {},
   "source": [
    "#### Замена строковых данных"
   ]
  },
  {
   "cell_type": "markdown",
   "id": "ba450fd5",
   "metadata": {},
   "source": [
    "При подготовке данных для статистического анализа и машинного обучения строковые данные по возможности стараются кодировать численными значениями.\n",
    "Пример, как это можно сделать, приведен ниже."
   ]
  },
  {
   "cell_type": "code",
   "execution_count": 73,
   "id": "c2ba5101",
   "metadata": {},
   "outputs": [
    {
     "name": "stdout",
     "output_type": "stream",
     "text": [
      "Возможные значения признака Пол:  [1 2]\n",
      "Gender\n",
      "1    577\n",
      "2    314\n",
      "Name: count, dtype: int64\n",
      "Возможные значения признака Пол:  [1 2]\n",
      "Gender\n",
      "1    577\n",
      "2    314\n",
      "Name: count, dtype: int64\n"
     ]
    }
   ],
   "source": [
    "print('Возможные значения признака Пол: ',train_clean['Gender'].unique())\n",
    "print(train_clean['Gender'].value_counts())\n",
    "train_clean = train_clean.replace(to_replace = 'male', value = 1).infer_objects(copy=False)\n",
    "train_clean = train_clean.replace(to_replace = 'female', value = 2).infer_objects(copy=False)\n",
    "train_clean.head()\n",
    "print('Возможные значения признака Пол: ',train_clean['Gender'].unique())\n",
    "print(train_clean['Gender'].value_counts())"
   ]
  },
  {
   "cell_type": "markdown",
   "id": "65267703",
   "metadata": {},
   "source": [
    "#### Сохранение в файл\n",
    "Метод **`.to_csv (<имя файла>, index = <False/True>)`** "
   ]
  },
  {
   "cell_type": "code",
   "execution_count": 76,
   "id": "8c4cbdb9",
   "metadata": {},
   "outputs": [],
   "source": [
    "train_clean.to_csv(\"Titanic_train_clean.csv\", index=False) \n",
    "# за что отвечает аргумент index, выясните в документации"
   ]
  },
  {
   "cell_type": "code",
   "execution_count": null,
   "id": "5de3bb19-f1a4-407f-84e2-aa65b1e4c9cf",
   "metadata": {},
   "outputs": [],
   "source": []
  }
 ],
 "metadata": {
  "kernelspec": {
   "display_name": "Python 3 (ipykernel)",
   "language": "python",
   "name": "python3"
  },
  "language_info": {
   "codemirror_mode": {
    "name": "ipython",
    "version": 3
   },
   "file_extension": ".py",
   "mimetype": "text/x-python",
   "name": "python",
   "nbconvert_exporter": "python",
   "pygments_lexer": "ipython3",
   "version": "3.12.4"
  }
 },
 "nbformat": 4,
 "nbformat_minor": 5
}
