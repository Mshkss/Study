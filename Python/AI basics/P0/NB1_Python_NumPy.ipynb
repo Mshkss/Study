{
 "cells": [
  {
   "cell_type": "markdown",
   "id": "14f70baf",
   "metadata": {},
   "source": [
    "## Переменные и типы данных в Python\n",
    "Переменная — это простейшая именованная структура данных, в которой может быть сохранён промежуточный или конечный результат работы программы.  \n",
    "В Python тип переменной не задается явно, как, например в С++. \n",
    "В Python используется динамическая типизация, т.е. определение типа переменной происходит автоматически, когда вы присваиваете значение переменной.  \n",
    "Чтобы оперативно просмотреть значение переменной в режиме ноутбука, можно в последней строке ячейки указать имя переменной.  \n",
    "Для вывода, в том числе форматированного, используется функция **print(<список переменных>**.  \n",
    "Определить тип переменной можно с помощью функции **type(<имя переменной>)**."
   ]
  },
  {
   "cell_type": "markdown",
   "id": "379efe60",
   "metadata": {},
   "source": [
    "### *Встроенные типы данных*  "
   ]
  },
  {
   "cell_type": "markdown",
   "id": "6b4f1ddf",
   "metadata": {},
   "source": [
    "**int**  \n",
    "Целые положительные или отрицательные числа.  \n",
    "*Примечание: Нет отдельного типа ‘long int’ (длинное целое). Целые числа по умолчанию могут быть произвольной длины.*"
   ]
  },
  {
   "cell_type": "code",
   "execution_count": 4,
   "id": "d7e39bee",
   "metadata": {},
   "outputs": [
    {
     "name": "stdout",
     "output_type": "stream",
     "text": [
      "Тип переменной var: <class 'int'>\n"
     ]
    },
    {
     "data": {
      "text/plain": [
       "12344283333333333333333333388888888888888888888888888888222222222222227678492390"
      ]
     },
     "execution_count": 4,
     "metadata": {},
     "output_type": "execute_result"
    }
   ],
   "source": [
    "var = 12344283333333333333333333388888888888888888888888888888222222222222227678492390\n",
    "print('Тип переменной var:',type(var))\n",
    "var"
   ]
  },
  {
   "cell_type": "code",
   "execution_count": 5,
   "id": "d5e807df",
   "metadata": {
    "scrolled": true
   },
   "outputs": [
    {
     "name": "stdout",
     "output_type": "stream",
     "text": [
      "Тип переменной integer: <class 'int'>  Значение переменной integer:  -1234\n"
     ]
    }
   ],
   "source": [
    "integer = -1234\n",
    "print('Тип переменной integer:', type(integer),\" Значение переменной integer: \", integer)"
   ]
  },
  {
   "cell_type": "markdown",
   "id": "e8ddc77d",
   "metadata": {},
   "source": [
    "**float**  \n",
    "Числа с плавающей точкой.  \n",
    "*Примечание: Числа могут быть комплексные.  Примеры комплексных чисел:(-5+4j) и (2.3-4.6j)*  "
   ]
  },
  {
   "cell_type": "code",
   "execution_count": 7,
   "id": "6733b16c",
   "metadata": {},
   "outputs": [
    {
     "name": "stdout",
     "output_type": "stream",
     "text": [
      "Тип переменной real: <class 'float'>  Значение переменной real:  12.56002\n",
      "Тип переменной compl: <class 'complex'>  Значение переменной compl:  (5-4j)\n"
     ]
    }
   ],
   "source": [
    "real = 12.56002\n",
    "compl = (5-4j)\n",
    "print('Тип переменной real:', type(real),\" Значение переменной real: \", real)\n",
    "print('Тип переменной compl:', type(compl),\" Значение переменной compl: \", compl)"
   ]
  },
  {
   "cell_type": "markdown",
   "id": "e4fe8d3c",
   "metadata": {},
   "source": [
    "**bool**  \n",
    "Булевые значения, тип данных, принимающий одно из двух значений True - истина False - ложь. "
   ]
  },
  {
   "cell_type": "code",
   "execution_count": 9,
   "id": "45e5a11b",
   "metadata": {},
   "outputs": [
    {
     "name": "stdout",
     "output_type": "stream",
     "text": [
      "Тип переменной boolean: <class 'bool'>  Значение переменной boolean:  False\n"
     ]
    }
   ],
   "source": [
    "boolean = False\n",
    "print('Тип переменной boolean:', type(boolean),\" Значение переменной boolean: \", boolean)"
   ]
  },
  {
   "cell_type": "markdown",
   "id": "5be54e61",
   "metadata": {},
   "source": [
    "**str**  \n",
    "Строки символов (неизменяемый тип)"
   ]
  },
  {
   "cell_type": "code",
   "execution_count": 11,
   "id": "b321da7b",
   "metadata": {},
   "outputs": [
    {
     "name": "stdout",
     "output_type": "stream",
     "text": [
      "Тип переменной string: <class 'str'>  Значение переменной string:  Hello, World!\n",
      "Вторая буква строки:  e\n"
     ]
    }
   ],
   "source": [
    "string = \"Hello, World!\"\n",
    "print('Тип переменной string:', type(string),\" Значение переменной string: \", string)\n",
    "print(\"Вторая буква строки: \", string[1]) # нумерация начинается с 0!"
   ]
  },
  {
   "cell_type": "markdown",
   "id": "27621eec",
   "metadata": {},
   "source": [
    "**tup**  \n",
    "Кортеж (Tuple), упорядоченная последовательность элементов (неизменяемый тип) "
   ]
  },
  {
   "cell_type": "code",
   "execution_count": 13,
   "id": "b9c880d6",
   "metadata": {},
   "outputs": [
    {
     "name": "stdout",
     "output_type": "stream",
     "text": [
      "Тип переменной tulpe: <class 'tuple'>  Значение переменной tulpe:  ('hostname', 1234, -0.45, -32)\n",
      "Третий элемент кортежа:  -0.45\n"
     ]
    }
   ],
   "source": [
    "tulpe = ('hostname', 1234, -0.45, -32)\n",
    "print('Тип переменной tulpe:', type(tulpe),\" Значение переменной tulpe: \", tulpe)\n",
    "print(\"Третий элемент кортежа: \", tulpe[2]) # нумерация начинается с 0!"
   ]
  },
  {
   "cell_type": "markdown",
   "id": "d8a05c5c",
   "metadata": {},
   "source": [
    "**list**  \n",
    "Cписок - упорядоченная последовательность элементов (изменяемый тип)"
   ]
  },
  {
   "cell_type": "code",
   "execution_count": 15,
   "id": "03f71d9b",
   "metadata": {},
   "outputs": [
    {
     "name": "stdout",
     "output_type": "stream",
     "text": [
      "Тип переменной my_list: <class 'list'>\n",
      "['Natalia', 'Krasnoyarsk', 58, True, 2]\n"
     ]
    }
   ],
   "source": [
    "my_list=[\"Natalia\",\"Krasnoyarsk\",58,True,2]\n",
    "print('Тип переменной my_list:', type(my_list))\n",
    "print(my_list)"
   ]
  },
  {
   "cell_type": "code",
   "execution_count": 16,
   "id": "7953fd3e",
   "metadata": {},
   "outputs": [
    {
     "name": "stdout",
     "output_type": "stream",
     "text": [
      "['Natalia', 'Moskva', 58, True, 2]\n"
     ]
    }
   ],
   "source": [
    "my_list[1]='Moskva'\n",
    "print(my_list)"
   ]
  },
  {
   "cell_type": "markdown",
   "id": "d69484e3",
   "metadata": {},
   "source": [
    "**set**  \n",
    "Множество - Неупорядоченная последовательность элементов (изменяемый тип)  "
   ]
  },
  {
   "cell_type": "code",
   "execution_count": 18,
   "id": "3b645272",
   "metadata": {
    "scrolled": true
   },
   "outputs": [
    {
     "name": "stdout",
     "output_type": "stream",
     "text": [
      "Тип переменной my_set: <class 'set'>\n",
      "{True, 2, 'Natalia', 57, 'Krasnoyarsk'}\n"
     ]
    },
    {
     "ename": "TypeError",
     "evalue": "'set' object does not support item assignment",
     "output_type": "error",
     "traceback": [
      "\u001b[1;31m---------------------------------------------------------------------------\u001b[0m",
      "\u001b[1;31mTypeError\u001b[0m                                 Traceback (most recent call last)",
      "Cell \u001b[1;32mIn[18], line 4\u001b[0m\n\u001b[0;32m      2\u001b[0m \u001b[38;5;28mprint\u001b[39m(\u001b[38;5;124m'\u001b[39m\u001b[38;5;124mТип переменной my_set:\u001b[39m\u001b[38;5;124m'\u001b[39m, \u001b[38;5;28mtype\u001b[39m(my_set)) \n\u001b[0;32m      3\u001b[0m \u001b[38;5;28mprint\u001b[39m(my_set) \u001b[38;5;66;03m#Порядок вывода элементов множества произвольный!\u001b[39;00m\n\u001b[1;32m----> 4\u001b[0m my_set[\u001b[38;5;241m1\u001b[39m]\u001b[38;5;241m=\u001b[39m\u001b[38;5;124m'\u001b[39m\u001b[38;5;124mMoskva\u001b[39m\u001b[38;5;124m'\u001b[39m \u001b[38;5;66;03m#В этой строке ошибка! Множество - Неупорядоченная последовательность элементов!\u001b[39;00m\n\u001b[0;32m      5\u001b[0m \u001b[38;5;28mprint\u001b[39m(my_set)\n",
      "\u001b[1;31mTypeError\u001b[0m: 'set' object does not support item assignment"
     ]
    }
   ],
   "source": [
    "my_set={\"Natalia\",\"Krasnoyarsk\",57,True,2}\n",
    "print('Тип переменной my_set:', type(my_set)) \n",
    "print(my_set) #Порядок вывода элементов множества произвольный!\n",
    "my_set[1]='Moskva' #В этой строке ошибка! Множество - Неупорядоченная последовательность элементов!\n",
    "print(my_set) #Порядок вывода элементов множества произвольный!"
   ]
  },
  {
   "cell_type": "code",
   "execution_count": 50,
   "id": "d3951608",
   "metadata": {
    "scrolled": true
   },
   "outputs": [
    {
     "name": "stdout",
     "output_type": "stream",
     "text": [
      "{True, 2, 'Natalia', 57, 'Krasnoyarsk'}\n",
      "{True, 2, 'Natalia', 57}\n",
      "{True, 2, 'Natalia', 'Moskva', 57}\n"
     ]
    }
   ],
   "source": [
    "my_set={\"Natalia\",\"Krasnoyarsk\",57,True,2}\n",
    "print(my_set) \n",
    "my_set.discard('Krasnoyarsk') #метод удаления элемента множества\n",
    "print(my_set)\n",
    "my_set.add('Moskva') #метод добавления элемента множества\n",
    "print(my_set)"
   ]
  },
  {
   "cell_type": "markdown",
   "id": "66f72c47",
   "metadata": {},
   "source": [
    "**dict**  \n",
    "Словарь - последовательность пар элементов содержащих ключ-значение (key-value) (изменяемый тип)  \n",
    "Пример: {«Language»: «Python», «Version»: «3.8»}  "
   ]
  },
  {
   "cell_type": "code",
   "execution_count": 52,
   "id": "eb8a56b1",
   "metadata": {},
   "outputs": [
    {
     "name": "stdout",
     "output_type": "stream",
     "text": [
      "Тип переменной my_dict: <class 'dict'>\n",
      "{'Name': 'Natalia', 'City': 'Krasnoyarsk', 'Age': 57, 'Married': True, 'Children': 2}\n",
      "Natalia\n",
      "{'Name': 'Natalia', 'City': 'Moskva', 'Age': 57, 'Married': True, 'Children': 2}\n"
     ]
    }
   ],
   "source": [
    "my_dict={\"Name\":\"Natalia\",\"City\":\"Krasnoyarsk\",\"Age\":57,\"Married\":True,\"Children\":2}\n",
    "print('Тип переменной my_dict:', type(my_dict))\n",
    "print(my_dict)\n",
    "print(my_dict[\"Name\"])\n",
    "my_dict[\"City\"]=\"Moskva\"\n",
    "print(my_dict)"
   ]
  },
  {
   "cell_type": "markdown",
   "id": "8e10e485",
   "metadata": {},
   "source": [
    "Тип переменной может меняться!"
   ]
  },
  {
   "cell_type": "code",
   "execution_count": 54,
   "id": "e96fafdb",
   "metadata": {},
   "outputs": [
    {
     "name": "stdout",
     "output_type": "stream",
     "text": [
      "Тип переменной var: <class 'int'>\n",
      "Тип переменной var: <class 'str'>\n"
     ]
    }
   ],
   "source": [
    "var = 12344283333333333333333333388888888888888888888888888888222222222222227678492390\n",
    "print('Тип переменной var:',type(var))\n",
    "var = \"String\"\n",
    "print('Тип переменной var:',type(var))"
   ]
  },
  {
   "cell_type": "markdown",
   "id": "05aaa2bd",
   "metadata": {},
   "source": [
    "### Обратите внимание, что типа данных \"массив\" во встроенных типах данных Python нет!"
   ]
  },
  {
   "cell_type": "markdown",
   "id": "4e538746",
   "metadata": {},
   "source": [
    "Язык Python имеет лаконичный синтаксис и хорошо представленную документацию.  \n",
    "[Документация Python](https://www.python.org/doc/)  "
   ]
  },
  {
   "cell_type": "markdown",
   "id": "25bec41a",
   "metadata": {},
   "source": [
    "# Библиотеки Python  \n",
    "Одним из преимуществ языка Python является большое количество библиотек для решения задач в самых различных областях.\n",
    "В рамках нашего курса мы ознакомимся с наиболее популярными библиотеками в области работы с данными и искусственного интеллекта. "
   ]
  },
  {
   "cell_type": "markdown",
   "id": "d7484772",
   "metadata": {},
   "source": [
    "## Библиотека NumPy\n",
    "NumPy (сокращенно от Numerical Python) — библиотека с открытым исходным кодом для языка программирования Python.  \n",
    "Библиотека NumPy предоставляет реализации вычислительных алгоритмов (в виде функций и операторов), оптимизированные для работы с многомерными массивами.  \n",
    "Возможности:  \n",
    "- поддержка многомерных массивов (включая матрицы);  \n",
    "- поддержка высокоуровневых математических функций, предназначенных для работы с многомерными массивами.  \n",
    "\n",
    "NumPy обеспечивает доступ к широкому спектру продвинутых математических функций, включая операции линейной алгебры, преобразования Фурье и генерацию случайных чисел.     \n",
    "[Документация NumPy](https://numpy.org/doc/stable/reference/index.html)  \n",
    "\n",
    "Нужно иметь в виду, что математические алгоритмы, реализованные на интерпретируемых языках, в том числе на Python, часто работают гораздо медленнее тех же алгоритмов, реализованных на компилируемых языках.  "
   ]
  },
  {
   "cell_type": "markdown",
   "id": "e42707f5",
   "metadata": {},
   "source": [
    "### Импорт библиотеки и назначение псевдонима  \n",
    "В языке программирования Python подключение пакетов, библиотек и модулей осуществляется с помощью функции import.   \n",
    "При подключении пакета для для удобства работы и сокращения объема кода можно указать короткий псевдоним, по которому будет выполняться обращение к компонентам и функциям пакета:  \n",
    "**import <имя библиотеки> as <псевдоним>** .   "
   ]
  },
  {
   "cell_type": "code",
   "execution_count": 2,
   "id": "c7c2e100",
   "metadata": {},
   "outputs": [],
   "source": [
    "import numpy as np"
   ]
  },
  {
   "cell_type": "markdown",
   "id": "c5f168a1",
   "metadata": {},
   "source": [
    "### Примитивные типы данных NumPy\n",
    "NumPy поддерживает гораздо большее разнообразие числовых типов, чем Python. Поддерживаемые примитивные типы тесно связаны с типами в C.  \n",
    "Наиболее часто используемые примитивные типы NumPy (более подробное и полное описание типов см. в документации):  \n",
    "Numpy type    | C type| Примечание\n",
    "--------------|------------------|----------\n",
    "numpy.bool_\t  | bool  \n",
    "numpy.byte    | signed char  \n",
    "numpy.ubyte\t  | unsigned char  \n",
    "numpy.short\t  | short  \n",
    "numpy.ushort  | unsigned short  \n",
    "numpy.intc\t  | int  \n",
    "numpy.uintc\t  | unsigned int  \n",
    "numpy.int_\t  | long  \n",
    "numpy.uint\t  | unsigned long  \n",
    "numpy.longlong|\tlong long  \n",
    "numpy.single  | float\t|Platform-defined single precision float: typically sign bit, 8 bits exponent, 23 bits mantissa\n",
    "numpy.single  | double\t|Platform-defined double precision float: typically sign bit, 11 bits exponent, 52 bits mantissa"
   ]
  },
  {
   "cell_type": "markdown",
   "id": "ef5c23d7",
   "metadata": {},
   "source": [
    "### Массивы в NumPy\n",
    "\n",
    "**Создание пустого одномерного массива:** \n",
    "*Примечание: одномерные массивы NumPy называют векторами, и работа с ними имеет ряд особенностей.*"
   ]
  },
  {
   "cell_type": "code",
   "execution_count": 63,
   "id": "2b459c8a",
   "metadata": {},
   "outputs": [
    {
     "data": {
      "text/plain": [
       "array([], dtype=float64)"
      ]
     },
     "execution_count": 63,
     "metadata": {},
     "output_type": "execute_result"
    }
   ],
   "source": [
    "array_free = np.array([]) # обратите внимание на тип данных по умолчанию!\n",
    "array_free"
   ]
  },
  {
   "cell_type": "markdown",
   "id": "9f12ecce",
   "metadata": {},
   "source": [
    "**Создание одномерного массива (вектора) перечислением:**"
   ]
  },
  {
   "cell_type": "code",
   "execution_count": 3,
   "id": "fcf3ddfe",
   "metadata": {},
   "outputs": [
    {
     "data": {
      "text/plain": [
       "array([ 1.,  0.,  2.,  3.,  5., -1.])"
      ]
     },
     "execution_count": 3,
     "metadata": {},
     "output_type": "execute_result"
    }
   ],
   "source": [
    "array_1D = np.array([1., 0., 2., 3., 5., -1.])\n",
    "array_1D"
   ]
  },
  {
   "cell_type": "code",
   "execution_count": 4,
   "id": "b2144509",
   "metadata": {},
   "outputs": [],
   "source": [
    "a = np.array([2, 3, 6])\n",
    "b = np.array([[4], [5], [1]]) # попробуйте понять, чем отличаются описания этих двух массивов до их вывода\n",
    "\n",
    "print(\"a\",a)\n",
    "print(\"b\",b)"
   ]
  },
  {
   "cell_type": "code",
   "execution_count": 67,
   "id": "fae2e9dd",
   "metadata": {
    "scrolled": true
   },
   "outputs": [
    {
     "name": "stdout",
     "output_type": "stream",
     "text": [
      "[2 3 6] \n",
      "\n",
      "[[4]\n",
      " [5]\n",
      " [1]]\n"
     ]
    }
   ],
   "source": [
    "print(a,'\\n')\n",
    "print(b)"
   ]
  },
  {
   "cell_type": "markdown",
   "id": "9ef5ef1f",
   "metadata": {},
   "source": [
    "**Тип данных можно явно задать при создании массива:**"
   ]
  },
  {
   "cell_type": "code",
   "execution_count": 69,
   "id": "70a614be",
   "metadata": {},
   "outputs": [
    {
     "name": "stdout",
     "output_type": "stream",
     "text": [
      "float32 - тип данных\n",
      "[1.] - значение переменных массива\n"
     ]
    }
   ],
   "source": [
    "array_int32 = np.array([1],dtype = np.single)\n",
    "print(array_int32.dtype, \"- тип данных\")\n",
    "print(array_int32, \"- значение переменных массива\")"
   ]
  },
  {
   "cell_type": "markdown",
   "id": "16736296",
   "metadata": {},
   "source": [
    "**Просмотр типа данных элементов массива:**"
   ]
  },
  {
   "cell_type": "code",
   "execution_count": 71,
   "id": "c45e9ebc",
   "metadata": {},
   "outputs": [
    {
     "name": "stdout",
     "output_type": "stream",
     "text": [
      "<class 'numpy.ndarray'>\n",
      "float64\n"
     ]
    }
   ],
   "source": [
    "print(type(array_1D)) # Обратите внимание! Тип переменной array_1D и тип элементов массива array_1D - не одно и то же!\n",
    "print(array_1D.dtype)"
   ]
  },
  {
   "cell_type": "markdown",
   "id": "c3a44d65",
   "metadata": {},
   "source": [
    "**Создание двумерного массива перечислением:**"
   ]
  },
  {
   "cell_type": "code",
   "execution_count": 73,
   "id": "fc78cea8",
   "metadata": {
    "scrolled": true
   },
   "outputs": [
    {
     "name": "stdout",
     "output_type": "stream",
     "text": [
      "[[ 1  0  2]\n",
      " [ 3  4  5]\n",
      " [ 6  8  7]\n",
      " [12 22  9]]\n"
     ]
    }
   ],
   "source": [
    "array_2D = np.array([[1, 0, 2], [3, 4, 5], [6, 8, 7], [12, 22, 9]])\n",
    "print(array_2D) # Какой тип будет у элементов этого массива? Попробуйте определить самостоятельно"
   ]
  },
  {
   "cell_type": "code",
   "execution_count": 74,
   "id": "d973141b",
   "metadata": {},
   "outputs": [
    {
     "name": "stdout",
     "output_type": "stream",
     "text": [
      "int32\n"
     ]
    }
   ],
   "source": [
    "print(array_2D.dtype)"
   ]
  },
  {
   "cell_type": "markdown",
   "id": "522ff030",
   "metadata": {},
   "source": [
    "**Вывод размерности массива:**"
   ]
  },
  {
   "cell_type": "code",
   "execution_count": 76,
   "id": "c6326677",
   "metadata": {},
   "outputs": [
    {
     "name": "stdout",
     "output_type": "stream",
     "text": [
      "(6,) - количество элементов одномерного массива\n",
      "(4, 3) - количество строк и столбцов двумерного массива\n",
      "6 - количество элементов одномерного массива\n",
      "12 - количество элементов двумерно массива\n"
     ]
    }
   ],
   "source": [
    "print(array_1D.shape, \"- количество элементов одномерного массива\")\n",
    "print(array_2D.shape, \"- количество строк и столбцов двумерного массива\")\n",
    "\n",
    "print(array_1D.size, \"- количество элементов одномерного массива\")\n",
    "print(array_2D.size, \"- количество элементов двумерно массива\")"
   ]
  },
  {
   "cell_type": "markdown",
   "id": "a0080c10",
   "metadata": {},
   "source": [
    "**Варианты автоматического заполнения массивов:**"
   ]
  },
  {
   "cell_type": "code",
   "execution_count": 78,
   "id": "88c7cc88",
   "metadata": {},
   "outputs": [
    {
     "data": {
      "text/plain": [
       "array([[1., 1.],\n",
       "       [1., 1.]])"
      ]
     },
     "execution_count": 78,
     "metadata": {},
     "output_type": "execute_result"
    }
   ],
   "source": [
    "np.ones((2, 2)) # заполнение единицами"
   ]
  },
  {
   "cell_type": "code",
   "execution_count": 79,
   "id": "53d81dd6",
   "metadata": {},
   "outputs": [
    {
     "data": {
      "text/plain": [
       "array([[0., 0., 0.],\n",
       "       [0., 0., 0.]])"
      ]
     },
     "execution_count": 79,
     "metadata": {},
     "output_type": "execute_result"
    }
   ],
   "source": [
    "np.zeros((2, 3))  # заполнение нулями"
   ]
  },
  {
   "cell_type": "code",
   "execution_count": 80,
   "id": "85f52ee8",
   "metadata": {},
   "outputs": [
    {
     "data": {
      "text/plain": [
       "array([[1., 0., 0., 0.],\n",
       "       [0., 1., 0., 0.],\n",
       "       [0., 0., 1., 0.],\n",
       "       [0., 0., 0., 1.]])"
      ]
     },
     "execution_count": 80,
     "metadata": {},
     "output_type": "execute_result"
    }
   ],
   "source": [
    "np.eye(4)  # заполнение диагональной единичной матрицей"
   ]
  },
  {
   "cell_type": "code",
   "execution_count": 81,
   "id": "f442ea44",
   "metadata": {},
   "outputs": [
    {
     "data": {
      "text/plain": [
       "array([[0.15635623, 0.30108463, 0.3133626 , 0.34403678],\n",
       "       [0.92087317, 0.46107193, 0.6824049 , 0.76340329]])"
      ]
     },
     "execution_count": 81,
     "metadata": {},
     "output_type": "execute_result"
    }
   ],
   "source": [
    "np.random.random((2, 4))  # заполнение случайными числами"
   ]
  },
  {
   "cell_type": "code",
   "execution_count": 82,
   "id": "8c6ee6da",
   "metadata": {},
   "outputs": [
    {
     "data": {
      "text/plain": [
       "array([[5, 5],\n",
       "       [5, 5]])"
      ]
     },
     "execution_count": 82,
     "metadata": {},
     "output_type": "execute_result"
    }
   ],
   "source": [
    "np.full((2, 2), 5)  # заполнение константой"
   ]
  },
  {
   "cell_type": "code",
   "execution_count": 83,
   "id": "bfeefa04",
   "metadata": {},
   "outputs": [],
   "source": [
    "array_1D = np.arange(15)  # заполнение последовательностью значений"
   ]
  },
  {
   "cell_type": "markdown",
   "id": "88d71f32",
   "metadata": {},
   "source": [
    "**Обращение к элементу массива по его индексу:**  \n",
    "*(индексация начинается с нуля)*"
   ]
  },
  {
   "cell_type": "code",
   "execution_count": 85,
   "id": "774a19de",
   "metadata": {},
   "outputs": [
    {
     "name": "stdout",
     "output_type": "stream",
     "text": [
      "[ 0  1  2  3  4  5  6  7  8  9 10 11 12 13 14]\n"
     ]
    },
    {
     "data": {
      "text/plain": [
       "1"
      ]
     },
     "execution_count": 85,
     "metadata": {},
     "output_type": "execute_result"
    }
   ],
   "source": [
    "print(array_1D)\n",
    "array_1D[1]"
   ]
  },
  {
   "cell_type": "code",
   "execution_count": 86,
   "id": "3affd611",
   "metadata": {
    "scrolled": true
   },
   "outputs": [
    {
     "name": "stdout",
     "output_type": "stream",
     "text": [
      "[[ 1  0  2]\n",
      " [ 3  4  5]\n",
      " [ 6  8  7]\n",
      " [12 22  9]]\n"
     ]
    },
    {
     "data": {
      "text/plain": [
       "5"
      ]
     },
     "execution_count": 86,
     "metadata": {},
     "output_type": "execute_result"
    }
   ],
   "source": [
    "print(array_2D)\n",
    "array_2D[1, 2]"
   ]
  },
  {
   "cell_type": "code",
   "execution_count": 87,
   "id": "d289198f",
   "metadata": {},
   "outputs": [
    {
     "name": "stdout",
     "output_type": "stream",
     "text": [
      "[3 4 5]\n"
     ]
    }
   ],
   "source": [
    "print(array_2D[1])"
   ]
  },
  {
   "cell_type": "code",
   "execution_count": 88,
   "id": "9d10beb3",
   "metadata": {},
   "outputs": [
    {
     "name": "stdout",
     "output_type": "stream",
     "text": [
      "[ 0  4  8 22]\n"
     ]
    }
   ],
   "source": [
    "print(array_2D[:,1])"
   ]
  },
  {
   "cell_type": "code",
   "execution_count": 89,
   "id": "0ae6028c",
   "metadata": {},
   "outputs": [
    {
     "name": "stdout",
     "output_type": "stream",
     "text": [
      "[[ 1  0  2]\n",
      " [ 3  4  5]\n",
      " [ 6  8  7]\n",
      " [12 22  9]]\n"
     ]
    },
    {
     "data": {
      "text/plain": [
       "array([[1, 0, 2],\n",
       "       [3, 4, 5]])"
      ]
     },
     "execution_count": 89,
     "metadata": {},
     "output_type": "execute_result"
    }
   ],
   "source": [
    "print(array_2D[:, :])\n",
    "array_2D[:2, :3]"
   ]
  },
  {
   "cell_type": "code",
   "execution_count": 90,
   "id": "abea4f79",
   "metadata": {},
   "outputs": [
    {
     "name": "stdout",
     "output_type": "stream",
     "text": [
      "22\n"
     ]
    }
   ],
   "source": [
    "n = np.max(array_2D) # поиск максимального элемента массива\n",
    "print(n)"
   ]
  },
  {
   "cell_type": "code",
   "execution_count": 91,
   "id": "174e4384",
   "metadata": {},
   "outputs": [
    {
     "name": "stdout",
     "output_type": "stream",
     "text": [
      "[ 0  1  2  3  4  5  6  7  8  9 10 11 12 13 14]\n",
      "Индекс максимального элемента массива:  14  Значение максимального элемента массива:  14\n"
     ]
    }
   ],
   "source": [
    "n = np.argmax(array_1D) # индекс максимального элемента массива\n",
    "print(array_1D)\n",
    "print(\"Индекс максимального элемента массива: \", n, \" Значение максимального элемента массива: \",array_1D[n])"
   ]
  },
  {
   "cell_type": "markdown",
   "id": "20c5be38",
   "metadata": {},
   "source": [
    "**Просмотр элементов массива, удовлетворяющих условию:**"
   ]
  },
  {
   "cell_type": "code",
   "execution_count": 93,
   "id": "13f54848",
   "metadata": {},
   "outputs": [
    {
     "data": {
      "text/plain": [
       "array([[False, False, False],\n",
       "       [False, False, False],\n",
       "       [ True,  True,  True],\n",
       "       [ True,  True,  True]])"
      ]
     },
     "execution_count": 93,
     "metadata": {},
     "output_type": "execute_result"
    }
   ],
   "source": [
    "array_2D > 5"
   ]
  },
  {
   "cell_type": "code",
   "execution_count": 94,
   "id": "23045a1d",
   "metadata": {},
   "outputs": [
    {
     "data": {
      "text/plain": [
       "array([ 6,  8,  7, 12, 22,  9])"
      ]
     },
     "execution_count": 94,
     "metadata": {},
     "output_type": "execute_result"
    }
   ],
   "source": [
    "array_2D[array_2D > 5]"
   ]
  },
  {
   "cell_type": "markdown",
   "id": "562daf4c",
   "metadata": {},
   "source": [
    "**Преобразование массива в вектор (одномерный массив):**"
   ]
  },
  {
   "cell_type": "code",
   "execution_count": 96,
   "id": "19577c09",
   "metadata": {
    "scrolled": true
   },
   "outputs": [
    {
     "name": "stdout",
     "output_type": "stream",
     "text": [
      "[[ 1  0  2]\n",
      " [ 3  4  5]\n",
      " [ 6  8  7]\n",
      " [12 22  9]] \n",
      "\n",
      "[ 1  0  2  3  4  5  6  8  7 12 22  9] \n",
      "\n",
      "[[ 1  0  2]\n",
      " [ 3  4  5]\n",
      " [ 6  8  7]\n",
      " [12 22  9]]\n"
     ]
    }
   ],
   "source": [
    "# функция flatten преобразует массив в одномерный\n",
    "print(array_2D,\"\\n\")\n",
    "print(array_2D.flatten(),\"\\n\") # Функция не изменяет исходный массив!\n",
    "print(array_2D)"
   ]
  },
  {
   "cell_type": "markdown",
   "id": "ef46ff17",
   "metadata": {},
   "source": [
    "**Изменение размерности / размера массива по индексам:**  \n",
    "*Примечание: часто под размерностью массива имеют в виду его размер по индексам, например \"размерность массива 3 на 5 элементов\".  \n",
    "Но строго говоря, размерность массива - это число индексов, которые определяют положение элемента в массиве, например, двумерный массив - массив с размерностью 2, элемент определяется по двум индексам: номер строки и столбца.  \n",
    "Приведенные ниже функции изменяют размер массива по индексам, т.е. форму массива (shape), а не его размерность.  \n",
    "Хотя с их использованием можно изменить и размерность массива :) .*"
   ]
  },
  {
   "cell_type": "code",
   "execution_count": 98,
   "id": "bd77fe45",
   "metadata": {},
   "outputs": [
    {
     "name": "stdout",
     "output_type": "stream",
     "text": [
      "[[ 1  0  2]\n",
      " [ 3  4  5]\n",
      " [ 6  8  7]\n",
      " [12 22  9]]\n"
     ]
    },
    {
     "data": {
      "text/plain": [
       "array([[ 1,  0],\n",
       "       [ 2,  3],\n",
       "       [ 4,  5],\n",
       "       [ 6,  8],\n",
       "       [ 7, 12],\n",
       "       [22,  9]])"
      ]
     },
     "execution_count": 98,
     "metadata": {},
     "output_type": "execute_result"
    }
   ],
   "source": [
    "print(array_2D)\n",
    "array_2D.reshape(6,2) # Функция не изменяет исходный массив!"
   ]
  },
  {
   "cell_type": "code",
   "execution_count": 99,
   "id": "e6525f3d",
   "metadata": {},
   "outputs": [
    {
     "name": "stdout",
     "output_type": "stream",
     "text": [
      "[[ 1  0  2]\n",
      " [ 3  4  5]\n",
      " [ 6  8  7]\n",
      " [12 22  9]]\n"
     ]
    },
    {
     "data": {
      "text/plain": [
       "array([[ 1,  0,  2,  3,  4,  5],\n",
       "       [ 6,  8,  7, 12, 22,  9]])"
      ]
     },
     "execution_count": 99,
     "metadata": {},
     "output_type": "execute_result"
    }
   ],
   "source": [
    "# Метод resize() изменяет размерность массива и перезаписывает его\n",
    "print(array_2D)\n",
    "array_2D.resize(2, 6)\n",
    "array_2D"
   ]
  },
  {
   "cell_type": "markdown",
   "id": "c3ace5dc",
   "metadata": {},
   "source": [
    "**Транспонирование массивов**"
   ]
  },
  {
   "cell_type": "code",
   "execution_count": 101,
   "id": "4d72f6f1",
   "metadata": {},
   "outputs": [
    {
     "name": "stdout",
     "output_type": "stream",
     "text": [
      "[[ 1  0  2  3  4  5]\n",
      " [ 6  8  7 12 22  9]]\n"
     ]
    },
    {
     "data": {
      "text/plain": [
       "array([[ 1,  6],\n",
       "       [ 0,  8],\n",
       "       [ 2,  7],\n",
       "       [ 3, 12],\n",
       "       [ 4, 22],\n",
       "       [ 5,  9]])"
      ]
     },
     "execution_count": 101,
     "metadata": {},
     "output_type": "execute_result"
    }
   ],
   "source": [
    "print(array_2D)\n",
    "np.transpose(array_2D) # Функция не изменяет исходный массив!"
   ]
  },
  {
   "cell_type": "markdown",
   "id": "267445c3",
   "metadata": {},
   "source": [
    "**Арифметические действия с массивами (поэлементные):**"
   ]
  },
  {
   "cell_type": "code",
   "execution_count": 103,
   "id": "0bc461c3",
   "metadata": {},
   "outputs": [
    {
     "name": "stdout",
     "output_type": "stream",
     "text": [
      "[[1 2]\n",
      " [3 4]] \n",
      "\n",
      "[[2 3]\n",
      " [5 6]]\n"
     ]
    }
   ],
   "source": [
    "a = np.array([[1, 2] , [3, 4]])\n",
    "b = np.array([[2, 3] , [5, 6]])\n",
    "print(a, '\\n')\n",
    "print(b)"
   ]
  },
  {
   "cell_type": "code",
   "execution_count": 104,
   "id": "5fe49b0b",
   "metadata": {},
   "outputs": [
    {
     "name": "stdout",
     "output_type": "stream",
     "text": [
      "[[ 3  5]\n",
      " [ 8 10]] \n",
      "\n",
      "[[ 3  5]\n",
      " [ 8 10]]\n"
     ]
    }
   ],
   "source": [
    "# поэлементное сложение\n",
    "print(a + b, '\\n')\n",
    "print(np.add(a, b))"
   ]
  },
  {
   "cell_type": "code",
   "execution_count": 105,
   "id": "009148e5",
   "metadata": {},
   "outputs": [
    {
     "name": "stdout",
     "output_type": "stream",
     "text": [
      "[[-1 -1]\n",
      " [-2 -2]] \n",
      "\n",
      "[[-1 -1]\n",
      " [-2 -2]]\n"
     ]
    }
   ],
   "source": [
    "# поэлементное вычитание\n",
    "print(a - b, '\\n')\n",
    "print(np.subtract(a, b))"
   ]
  },
  {
   "cell_type": "code",
   "execution_count": 106,
   "id": "58564533",
   "metadata": {},
   "outputs": [
    {
     "name": "stdout",
     "output_type": "stream",
     "text": [
      "[[0.5        0.66666667]\n",
      " [0.6        0.66666667]] \n",
      "\n",
      "[[0.5        0.66666667]\n",
      " [0.6        0.66666667]]\n"
     ]
    }
   ],
   "source": [
    "# поэлементное деление\n",
    "print(a / b, '\\n')\n",
    "print(np.divide(a, b))"
   ]
  },
  {
   "cell_type": "code",
   "execution_count": 107,
   "id": "0ae80057",
   "metadata": {},
   "outputs": [
    {
     "name": "stdout",
     "output_type": "stream",
     "text": [
      "[[ 2  6]\n",
      " [15 24]] \n",
      "\n",
      "[[ 2  6]\n",
      " [15 24]]\n"
     ]
    }
   ],
   "source": [
    "# ПОЭЛЕМЕНТНОЕ умножение массивов\n",
    "print(a * b, '\\n')\n",
    "print(np.multiply(a, b))"
   ]
  },
  {
   "cell_type": "markdown",
   "id": "c145bf4e",
   "metadata": {},
   "source": [
    "**Скалярное произведение массивов:**"
   ]
  },
  {
   "cell_type": "code",
   "execution_count": 109,
   "id": "dd7904f9",
   "metadata": {},
   "outputs": [
    {
     "name": "stdout",
     "output_type": "stream",
     "text": [
      "[[ 3  6]\n",
      " [ 9 12]]\n"
     ]
    }
   ],
   "source": [
    "print(a * 3)"
   ]
  },
  {
   "cell_type": "markdown",
   "id": "d0908161",
   "metadata": {},
   "source": [
    "**Матричные операции над массивами**  \n",
    "Плохая новость :) : для того, чтобы понять разницу между поэлементным и матричным умножением массивов, нужно вспомнить линейную алгебру!"
   ]
  },
  {
   "cell_type": "code",
   "execution_count": 111,
   "id": "31103013",
   "metadata": {},
   "outputs": [
    {
     "name": "stdout",
     "output_type": "stream",
     "text": [
      "[[1 2]\n",
      " [3 4]] \n",
      "\n",
      "[[2 3]\n",
      " [5 6]] \n",
      "\n",
      "[[12 15]\n",
      " [26 33]] \n",
      "\n",
      "[[12 15]\n",
      " [26 33]]\n"
     ]
    }
   ],
   "source": [
    "print(a, '\\n')\n",
    "print(b, '\\n')\n",
    "# МАТРИЧНОЕ умножение массивов\n",
    "print(np.dot(a, b), '\\n') # функция библиотеки NumPy\n",
    "print(a @ b) # оператор, определенный в библиотеке NumPy; предпочтительно использовать "
   ]
  },
  {
   "cell_type": "markdown",
   "id": "01261b28",
   "metadata": {},
   "source": [
    "**Вспоминаем особенности выполнения матричного умножения**"
   ]
  },
  {
   "cell_type": "code",
   "execution_count": 113,
   "id": "efe43b2a",
   "metadata": {},
   "outputs": [
    {
     "name": "stdout",
     "output_type": "stream",
     "text": [
      "[[ 1  0  2]\n",
      " [ 3  4  5]\n",
      " [ 6  8  7]\n",
      " [12 22  9]] \n",
      "\n",
      "[[ 3  4  5  6]\n",
      " [ 8  7  6  5]\n",
      " [12 22  9  0]]\n"
     ]
    }
   ],
   "source": [
    "c = np.array([[1, 0, 2], [3, 4, 5], [6, 8, 7], [12, 22, 9]])\n",
    "d = np.array([[3, 4, 5, 6], [8, 7, 6, 5], [12, 22, 9, 0]])\n",
    "print(c,'\\n')\n",
    "print(d)"
   ]
  },
  {
   "cell_type": "code",
   "execution_count": 114,
   "id": "4ad5f161",
   "metadata": {},
   "outputs": [
    {
     "name": "stdout",
     "output_type": "stream",
     "text": [
      "[[ 27  48  23   6]\n",
      " [101 150  84  38]\n",
      " [166 234 141  76]\n",
      " [320 400 273 182]] \n",
      "\n",
      "[[ 27  48  23   6]\n",
      " [101 150  84  38]\n",
      " [166 234 141  76]\n",
      " [320 400 273 182]] \n",
      "\n"
     ]
    },
    {
     "ename": "ValueError",
     "evalue": "operands could not be broadcast together with shapes (4,3) (3,4) ",
     "output_type": "error",
     "traceback": [
      "\u001b[1;31m---------------------------------------------------------------------------\u001b[0m",
      "\u001b[1;31mValueError\u001b[0m                                Traceback (most recent call last)",
      "Cell \u001b[1;32mIn[114], line 4\u001b[0m\n\u001b[0;32m      2\u001b[0m \u001b[38;5;28mprint\u001b[39m(np\u001b[38;5;241m.\u001b[39mdot(c,d),\u001b[38;5;124m'\u001b[39m\u001b[38;5;130;01m\\n\u001b[39;00m\u001b[38;5;124m'\u001b[39m)\n\u001b[0;32m      3\u001b[0m \u001b[38;5;28mprint\u001b[39m(c \u001b[38;5;241m@\u001b[39m d,\u001b[38;5;124m'\u001b[39m\u001b[38;5;130;01m\\n\u001b[39;00m\u001b[38;5;124m'\u001b[39m)\n\u001b[1;32m----> 4\u001b[0m \u001b[38;5;28mprint\u001b[39m(c\u001b[38;5;241m*\u001b[39md)\n",
      "\u001b[1;31mValueError\u001b[0m: operands could not be broadcast together with shapes (4,3) (3,4) "
     ]
    }
   ],
   "source": [
    "# попробуйте догадаться, что произойдет после запуска этого кода\n",
    "print(np.dot(c,d),'\\n')\n",
    "print(c @ d,'\\n')\n",
    "print(c*d)"
   ]
  },
  {
   "cell_type": "code",
   "execution_count": 115,
   "id": "de63ba5b",
   "metadata": {},
   "outputs": [
    {
     "data": {
      "text/plain": [
       "array([[ 3,  8, 12],\n",
       "       [ 4,  7, 22],\n",
       "       [ 5,  6,  9],\n",
       "       [ 6,  5,  0]])"
      ]
     },
     "execution_count": 115,
     "metadata": {},
     "output_type": "execute_result"
    }
   ],
   "source": [
    "d = np.transpose(d)\n",
    "d"
   ]
  },
  {
   "cell_type": "code",
   "execution_count": 116,
   "id": "1c76f28d",
   "metadata": {},
   "outputs": [
    {
     "name": "stdout",
     "output_type": "stream",
     "text": [
      "[[  3   0  24]\n",
      " [ 12  28 110]\n",
      " [ 30  48  63]\n",
      " [ 72 110   0]]\n"
     ]
    },
    {
     "ename": "ValueError",
     "evalue": "shapes (4,3) and (4,3) not aligned: 3 (dim 1) != 4 (dim 0)",
     "output_type": "error",
     "traceback": [
      "\u001b[1;31m---------------------------------------------------------------------------\u001b[0m",
      "\u001b[1;31mValueError\u001b[0m                                Traceback (most recent call last)",
      "Cell \u001b[1;32mIn[116], line 3\u001b[0m\n\u001b[0;32m      1\u001b[0m \u001b[38;5;66;03m# попробуйте догадаться, что произойдет после запуска этого кода\u001b[39;00m\n\u001b[0;32m      2\u001b[0m \u001b[38;5;28mprint\u001b[39m(c\u001b[38;5;241m*\u001b[39md)\n\u001b[1;32m----> 3\u001b[0m \u001b[38;5;28mprint\u001b[39m(np\u001b[38;5;241m.\u001b[39mdot(c,d))\n",
      "\u001b[1;31mValueError\u001b[0m: shapes (4,3) and (4,3) not aligned: 3 (dim 1) != 4 (dim 0)"
     ]
    }
   ],
   "source": [
    "# попробуйте догадаться, что произойдет после запуска этого кода\n",
    "print(c*d)\n",
    "print(np.dot(c,d))"
   ]
  },
  {
   "cell_type": "markdown",
   "id": "a0458761",
   "metadata": {},
   "source": [
    "**Однако с одномерными массивами - векторами - ситуация иная**"
   ]
  },
  {
   "cell_type": "code",
   "execution_count": 130,
   "id": "b5765bc8",
   "metadata": {},
   "outputs": [],
   "source": [
    "x = np.array([1, 3, 5, 6])\n",
    "y = np.array([2, 4, 6, 7])"
   ]
  },
  {
   "cell_type": "code",
   "execution_count": 131,
   "id": "84f9cdeb",
   "metadata": {},
   "outputs": [
    {
     "name": "stdout",
     "output_type": "stream",
     "text": [
      "[1 3 5 6]\n",
      "[2 4 6 7] \n",
      "\n",
      "[ 2 12 30 42]\n",
      "86\n"
     ]
    }
   ],
   "source": [
    "print(x)\n",
    "print(y,'\\n')\n",
    "print(x * y)\n",
    "print(np.dot(x, y))"
   ]
  },
  {
   "cell_type": "code",
   "execution_count": 132,
   "id": "4c39591f",
   "metadata": {},
   "outputs": [
    {
     "name": "stdout",
     "output_type": "stream",
     "text": [
      "[1 3 5 6] \n",
      "\n",
      "[[2]\n",
      " [4]\n",
      " [6]\n",
      " [7]] \n",
      "\n",
      "[86]\n"
     ]
    }
   ],
   "source": [
    "c = np.array([[2], [4], [6], [7]])\n",
    "print(x,'\\n')\n",
    "print(c,'\\n')\n",
    "print(np.dot(x, c))"
   ]
  },
  {
   "cell_type": "markdown",
   "id": "e6260e0a",
   "metadata": {},
   "source": [
    "### Другие операции с массивами и их элементами\n",
    "**Суммирование элементов массива:**"
   ]
  },
  {
   "cell_type": "code",
   "execution_count": 134,
   "id": "90fc8245",
   "metadata": {},
   "outputs": [
    {
     "data": {
      "text/plain": [
       "6"
      ]
     },
     "execution_count": 134,
     "metadata": {},
     "output_type": "execute_result"
    }
   ],
   "source": [
    "a = np.array([1, 2, 3])\n",
    "np.sum(a)"
   ]
  },
  {
   "cell_type": "code",
   "execution_count": 135,
   "id": "7e3272a8",
   "metadata": {},
   "outputs": [
    {
     "name": "stdout",
     "output_type": "stream",
     "text": [
      "[2. 4. 6.]\n"
     ]
    },
    {
     "data": {
      "text/plain": [
       "12"
      ]
     },
     "execution_count": 135,
     "metadata": {},
     "output_type": "execute_result"
    }
   ],
   "source": [
    "a = a * 2.0 # изменение типа элементов массива на float\n",
    "print(a)\n",
    "np.sum(a, dtype = np.int64) # суммирование элементов массива и приведение к типу int"
   ]
  },
  {
   "cell_type": "code",
   "execution_count": 136,
   "id": "f8ec81a2",
   "metadata": {},
   "outputs": [
    {
     "data": {
      "text/plain": [
       "array([ 6,  8, 10])"
      ]
     },
     "execution_count": 136,
     "metadata": {},
     "output_type": "execute_result"
    }
   ],
   "source": [
    "# сумма элементов по столбцам\n",
    "a = np.array([[4, 5, 6], [2, 3, 4]])\n",
    "np.sum(a, axis = 0)"
   ]
  },
  {
   "cell_type": "code",
   "execution_count": 137,
   "id": "93f1e7eb",
   "metadata": {},
   "outputs": [
    {
     "data": {
      "text/plain": [
       "array([15,  9])"
      ]
     },
     "execution_count": 137,
     "metadata": {},
     "output_type": "execute_result"
    }
   ],
   "source": [
    "# сумма элементов по строкам\n",
    "np.sum(a, axis = 1)"
   ]
  },
  {
   "cell_type": "markdown",
   "id": "02f3304a",
   "metadata": {},
   "source": [
    "**Объединение массивов:**"
   ]
  },
  {
   "cell_type": "code",
   "execution_count": 139,
   "id": "a1d7bbd0",
   "metadata": {},
   "outputs": [
    {
     "data": {
      "text/plain": [
       "array([1, 2, 3, 4, 5, 6])"
      ]
     },
     "execution_count": 139,
     "metadata": {},
     "output_type": "execute_result"
    }
   ],
   "source": [
    "a = np.array([1, 2, 3])\n",
    "b = np.array([4, 5, 6])\n",
    "\n",
    "np.concatenate((a, b))"
   ]
  },
  {
   "cell_type": "code",
   "execution_count": 140,
   "id": "fd26d425",
   "metadata": {},
   "outputs": [
    {
     "name": "stdout",
     "output_type": "stream",
     "text": [
      "[[1 2 3]\n",
      " [4 5 6]]\n",
      "\n",
      "[[1 4]\n",
      " [2 5]\n",
      " [3 6]]\n"
     ]
    }
   ],
   "source": [
    "print(np.stack((a, b)))\n",
    "print()\n",
    "print(np.stack((a, b), axis = 1))"
   ]
  },
  {
   "cell_type": "markdown",
   "id": "ee094066",
   "metadata": {},
   "source": [
    "**Разделение массивов:**"
   ]
  },
  {
   "cell_type": "code",
   "execution_count": 142,
   "id": "6296b684",
   "metadata": {},
   "outputs": [
    {
     "name": "stdout",
     "output_type": "stream",
     "text": [
      "[0 1]\n",
      "[2 3]\n",
      "[4]\n"
     ]
    }
   ],
   "source": [
    "a = np.arange(5)\n",
    "c = np.array_split(a, 3)\n",
    "print(c[0])\n",
    "print(c[1])\n",
    "print(c[2])"
   ]
  },
  {
   "cell_type": "markdown",
   "id": "4d663a41",
   "metadata": {},
   "source": [
    "**Другие действия с массивами:**"
   ]
  },
  {
   "cell_type": "code",
   "execution_count": 144,
   "id": "f757f17f",
   "metadata": {},
   "outputs": [
    {
     "data": {
      "text/plain": [
       "array([1, 3, 2, 3, 1], dtype=int64)"
      ]
     },
     "execution_count": 144,
     "metadata": {},
     "output_type": "execute_result"
    }
   ],
   "source": [
    "# подсчет количества вхождений каждого элемента массива\n",
    "a = np.array([0, 1, 2, 2, 1, 1, 3, 3, 3, 4]) \n",
    "np.bincount(a)"
   ]
  },
  {
   "cell_type": "code",
   "execution_count": 145,
   "id": "c7812b07",
   "metadata": {},
   "outputs": [
    {
     "name": "stdout",
     "output_type": "stream",
     "text": [
      "[9 4 4 3 3 6 9 7 5 7]\n"
     ]
    },
    {
     "data": {
      "text/plain": [
       "array([4, 3, 1, 2, 8, 5, 9, 7, 6, 0], dtype=int64)"
      ]
     },
     "execution_count": 145,
     "metadata": {},
     "output_type": "execute_result"
    }
   ],
   "source": [
    "a = np.random.randint(1, 10, 10) \n",
    "print(a)\n",
    "np.argpartition(a, kth = 3) # сортирует kth-ый элемент массива, \n",
    "                            # значения меньше kth-ого элемента будут расположены слева от него, \n",
    "                            # а больше - справа в произвольном порядке. Функция возвращает ИНДЕКСЫ элементов."
   ]
  },
  {
   "cell_type": "code",
   "execution_count": 146,
   "id": "c2eccffa",
   "metadata": {},
   "outputs": [
    {
     "name": "stdout",
     "output_type": "stream",
     "text": [
      "[[0 1 2]\n",
      " [3 4 5]] \n",
      "\n",
      "[[0 2]\n",
      " [3 5]]\n",
      "\n",
      "[[3 4 5]]\n"
     ]
    }
   ],
   "source": [
    "# удаление строк или столбцов матрицы\n",
    "np.arange(4, 6, 1)\n",
    "a = np.array([np.arange(3), np.arange(3,6)])\n",
    "print(a, \"\\n\")\n",
    "print(np.delete(a, 1, axis = 1)) # удаление второго столбца\n",
    "print()\n",
    "print(np.delete(a, 0, axis = 0)) # удаление первой строки"
   ]
  },
  {
   "cell_type": "markdown",
   "id": "8ab467c2-925a-4c59-805e-d1069f13f6a8",
   "metadata": {},
   "source": [
    "## ДАЛЕЕ ПЕРЕХОДИМ К ВЫПОЛНЕНИЮ ЗАДАНИЯ 1.1"
   ]
  },
  {
   "cell_type": "code",
   "execution_count": null,
   "id": "2a0179a7-b643-48aa-a80e-a96cbf60a22a",
   "metadata": {},
   "outputs": [],
   "source": []
  }
 ],
 "metadata": {
  "kernelspec": {
   "display_name": "Python 3 (ipykernel)",
   "language": "python",
   "name": "python3"
  },
  "language_info": {
   "codemirror_mode": {
    "name": "ipython",
    "version": 3
   },
   "file_extension": ".py",
   "mimetype": "text/x-python",
   "name": "python",
   "nbconvert_exporter": "python",
   "pygments_lexer": "ipython3",
   "version": "3.12.4"
  }
 },
 "nbformat": 4,
 "nbformat_minor": 5
}
