{
 "cells": [
  {
   "cell_type": "markdown",
   "metadata": {
    "_uuid": "9e0b88084b8a7281f22f37208564a3a292f5693e"
   },
   "source": [
    "*на основе материалов [mlcourse.ai](mlcourse.ai) – Open Machine Learning Course Author: [Yury Kashnitskyy](http://yorko.github.io)  \n",
    "This material is subject to the terms and conditions of the [Creative Commons CC BY-NC-SA 4.0](https://creativecommons.org/licenses/by-nc-sa/4.0/) license. Free use is permitted for any non-commercial purpose.*"
   ]
  },
  {
   "cell_type": "markdown",
   "metadata": {},
   "source": [
    "Ботов Анатолий КИ22-08б"
   ]
  },
  {
   "cell_type": "markdown",
   "metadata": {
    "_uuid": "d76db92d1a2f45239227cbf473bd38168af60452"
   },
   "source": [
    "# Задание 1.2\n",
    "## Начальный этап Разведочного Анализа Данных - Exploratory data analysis (EDA) с библиотекой Pandas"
   ]
  },
  {
   "cell_type": "markdown",
   "metadata": {
    "_uuid": "871816f339b052f7c49025b19ddd06b634d2febb"
   },
   "source": [
    "**В этом задании вам следует использовать Pandas, чтобы ответить на несколько вопросов о наборе данных \n",
    "[Adult](https://archive.ics.uci.edu/ml/datasets/Adult).**"
   ]
  },
  {
   "cell_type": "markdown",
   "metadata": {
    "_uuid": "f9641558236566bc4515b86271f69b2934afe7a9"
   },
   "source": [
    "Поля таблицы и их краткое описание:\n",
    "- `age`: возраст, непрерывные значения(continuous).\n",
    "- `workclass`: занятость, значения: Private, Self-emp-not-inc, Self-emp-inc, Federal-gov, Local-gov, State-gov, Without-pay, Never-worked.\n",
    "- `fnlwgt`: примерная оценка количества людей, которое представляет каждая строка данных, непрерывные значения (continuous).\n",
    "- `education`: образование, значения: Bachelors, Some-college, 11th, HS-grad, Prof-school, Assoc-acdm, Assoc-voc, 9th, 7th-8th, 12th, Masters, 1st-4th, 10th, Doctorate, 5th-6th, Preschool.\n",
    "- `education-num`: длительность обучения, непрерывные значения(continuous).\n",
    "- `marital-status`: семейное положение, значения: Married-civ-spouse, Divorced, Never-married, Separated, Widowed, Married-spouse-absent, Married-AF-spouse.\n",
    "- `occupation`: вид деятельности, значения: Tech-support, Craft-repair, Other-service, Sales, Exec-managerial, Prof-specialty, Handlers-cleaners, Machine-op-inspct, Adm-clerical, Farming-fishing, Transport-moving, Priv-house-serv, Protective-serv, Armed-Forces.\n",
    "- `relationship`: родственники, значения: Wife, Own-child, Husband, Not-in-family, Other-relative, Unmarried.\n",
    "- `race`: раса, значения: White, Asian-Pac-Islander, Amer-Indian-Eskimo, Other, Black.\n",
    "- `sex`: пол, значения: Female, Male.\n",
    "- `capital-gain`: прирост капитала, непрерывные значения (continuous).\n",
    "- `capital-loss`: потери капитала, непрерывные значения (continuous).\n",
    "- `hours-per-week`: часов в неделю, непрерывные значения (continuous).\n",
    "- `native-country`: строна проживания: United-States, Cambodia, England, Puerto-Rico, Canada, Germany, Outlying-US(Guam-USVI-etc), India, Japan, Greece, South, China, Cuba, Iran, Honduras, Philippines, Italy, Poland, Jamaica, Vietnam, Mexico, Portugal, Ireland, France, Dominican-Republic, Laos, Ecuador, Taiwan, Haiti, Columbia, Hungary, Guatemala, Nicaragua, Scotland, Thailand, Yugoslavia, El-Salvador, Trinadad&Tobago, Peru, Hong, Holand-Netherlands.   \n",
    "- `salary`: заработная плата, значения: >50K,<=50K"
   ]
  },
  {
   "cell_type": "code",
   "execution_count": 4,
   "metadata": {
    "_uuid": "3570c8e98366e6e09f6e9e09bfef1385a74898a8"
   },
   "outputs": [],
   "source": [
    "# импортируйте библиотеки\n",
    "import pandas as pd\n",
    "import numpy as np\n",
    "\n",
    "# здесь должен быть ваш код"
   ]
  },
  {
   "cell_type": "code",
   "execution_count": 5,
   "metadata": {
    "_uuid": "00e99b05a3236a79b7177f4ddb63f8844c275f78"
   },
   "outputs": [
    {
     "data": {
      "text/html": [
       "<div>\n",
       "<style scoped>\n",
       "    .dataframe tbody tr th:only-of-type {\n",
       "        vertical-align: middle;\n",
       "    }\n",
       "\n",
       "    .dataframe tbody tr th {\n",
       "        vertical-align: top;\n",
       "    }\n",
       "\n",
       "    .dataframe thead th {\n",
       "        text-align: right;\n",
       "    }\n",
       "</style>\n",
       "<table border=\"1\" class=\"dataframe\">\n",
       "  <thead>\n",
       "    <tr style=\"text-align: right;\">\n",
       "      <th></th>\n",
       "      <th>age</th>\n",
       "      <th>workclass</th>\n",
       "      <th>fnlwgt</th>\n",
       "      <th>education</th>\n",
       "      <th>education-num</th>\n",
       "      <th>marital-status</th>\n",
       "      <th>occupation</th>\n",
       "      <th>relationship</th>\n",
       "      <th>race</th>\n",
       "      <th>sex</th>\n",
       "      <th>capital-gain</th>\n",
       "      <th>capital-loss</th>\n",
       "      <th>hours-per-week</th>\n",
       "      <th>native-country</th>\n",
       "      <th>salary</th>\n",
       "    </tr>\n",
       "  </thead>\n",
       "  <tbody>\n",
       "    <tr>\n",
       "      <th>0</th>\n",
       "      <td>39</td>\n",
       "      <td>State-gov</td>\n",
       "      <td>77516</td>\n",
       "      <td>Bachelors</td>\n",
       "      <td>13</td>\n",
       "      <td>Never-married</td>\n",
       "      <td>Adm-clerical</td>\n",
       "      <td>Not-in-family</td>\n",
       "      <td>White</td>\n",
       "      <td>Male</td>\n",
       "      <td>2174</td>\n",
       "      <td>0</td>\n",
       "      <td>40</td>\n",
       "      <td>United-States</td>\n",
       "      <td>&lt;=50K</td>\n",
       "    </tr>\n",
       "    <tr>\n",
       "      <th>1</th>\n",
       "      <td>50</td>\n",
       "      <td>Self-emp-not-inc</td>\n",
       "      <td>83311</td>\n",
       "      <td>Bachelors</td>\n",
       "      <td>13</td>\n",
       "      <td>Married-civ-spouse</td>\n",
       "      <td>Exec-managerial</td>\n",
       "      <td>Husband</td>\n",
       "      <td>White</td>\n",
       "      <td>Male</td>\n",
       "      <td>0</td>\n",
       "      <td>0</td>\n",
       "      <td>13</td>\n",
       "      <td>United-States</td>\n",
       "      <td>&lt;=50K</td>\n",
       "    </tr>\n",
       "    <tr>\n",
       "      <th>2</th>\n",
       "      <td>38</td>\n",
       "      <td>Private</td>\n",
       "      <td>215646</td>\n",
       "      <td>HS-grad</td>\n",
       "      <td>9</td>\n",
       "      <td>Divorced</td>\n",
       "      <td>Handlers-cleaners</td>\n",
       "      <td>Not-in-family</td>\n",
       "      <td>White</td>\n",
       "      <td>Male</td>\n",
       "      <td>0</td>\n",
       "      <td>0</td>\n",
       "      <td>40</td>\n",
       "      <td>United-States</td>\n",
       "      <td>&lt;=50K</td>\n",
       "    </tr>\n",
       "    <tr>\n",
       "      <th>3</th>\n",
       "      <td>53</td>\n",
       "      <td>Private</td>\n",
       "      <td>234721</td>\n",
       "      <td>11th</td>\n",
       "      <td>7</td>\n",
       "      <td>Married-civ-spouse</td>\n",
       "      <td>Handlers-cleaners</td>\n",
       "      <td>Husband</td>\n",
       "      <td>Black</td>\n",
       "      <td>Male</td>\n",
       "      <td>0</td>\n",
       "      <td>0</td>\n",
       "      <td>40</td>\n",
       "      <td>United-States</td>\n",
       "      <td>&lt;=50K</td>\n",
       "    </tr>\n",
       "    <tr>\n",
       "      <th>4</th>\n",
       "      <td>28</td>\n",
       "      <td>Private</td>\n",
       "      <td>338409</td>\n",
       "      <td>Bachelors</td>\n",
       "      <td>13</td>\n",
       "      <td>Married-civ-spouse</td>\n",
       "      <td>Prof-specialty</td>\n",
       "      <td>Wife</td>\n",
       "      <td>Black</td>\n",
       "      <td>Female</td>\n",
       "      <td>0</td>\n",
       "      <td>0</td>\n",
       "      <td>40</td>\n",
       "      <td>Cuba</td>\n",
       "      <td>&lt;=50K</td>\n",
       "    </tr>\n",
       "  </tbody>\n",
       "</table>\n",
       "</div>"
      ],
      "text/plain": [
       "   age         workclass  fnlwgt  education  education-num  \\\n",
       "0   39         State-gov   77516  Bachelors             13   \n",
       "1   50  Self-emp-not-inc   83311  Bachelors             13   \n",
       "2   38           Private  215646    HS-grad              9   \n",
       "3   53           Private  234721       11th              7   \n",
       "4   28           Private  338409  Bachelors             13   \n",
       "\n",
       "       marital-status         occupation   relationship   race     sex  \\\n",
       "0       Never-married       Adm-clerical  Not-in-family  White    Male   \n",
       "1  Married-civ-spouse    Exec-managerial        Husband  White    Male   \n",
       "2            Divorced  Handlers-cleaners  Not-in-family  White    Male   \n",
       "3  Married-civ-spouse  Handlers-cleaners        Husband  Black    Male   \n",
       "4  Married-civ-spouse     Prof-specialty           Wife  Black  Female   \n",
       "\n",
       "   capital-gain  capital-loss  hours-per-week native-country salary  \n",
       "0          2174             0              40  United-States  <=50K  \n",
       "1             0             0              13  United-States  <=50K  \n",
       "2             0             0              40  United-States  <=50K  \n",
       "3             0             0              40  United-States  <=50K  \n",
       "4             0             0              40           Cuba  <=50K  "
      ]
     },
     "execution_count": 5,
     "metadata": {},
     "output_type": "execute_result"
    }
   ],
   "source": [
    "# считайте датасет из файла adult.data.csv и выведите первые 5 строк\n",
    "data = pd.read_csv(\"adult.data.csv\")\n",
    "data.head()\n",
    "# здесь должен быть ваш код"
   ]
  },
  {
   "cell_type": "markdown",
   "metadata": {
    "_uuid": "91ae74b07f8d0f10549b2feb55dc39886a601820"
   },
   "source": [
    "**1. Сколько мужчин и женщин (признак *sex - пол*) представлено в этом наборе данных?** "
   ]
  },
  {
   "cell_type": "code",
   "execution_count": 12,
   "metadata": {
    "_uuid": "b47a687d2ef3a449909c9212421d83e42c039bd8"
   },
   "outputs": [
    {
     "name": "stdout",
     "output_type": "stream",
     "text": [
      "sex\n",
      "Male      21790\n",
      "Female    10771\n",
      "Name: count, dtype: int64\n"
     ]
    }
   ],
   "source": [
    "# определите число мужчин и женщин, выведите полученные значения\n",
    "print(data['sex'].value_counts())\n",
    "# здесь должен быть ваш код"
   ]
  },
  {
   "cell_type": "markdown",
   "metadata": {
    "_uuid": "a5d127ecc8d050395077b5a1c0b14d97d93cacc9"
   },
   "source": [
    "**2. Какой средний возраст (признак *age*) у мужчин?**"
   ]
  },
  {
   "cell_type": "code",
   "execution_count": 17,
   "metadata": {
    "_uuid": "6936751bc2061873c52c052b8977b1fe0ac826bd"
   },
   "outputs": [
    {
     "name": "stdout",
     "output_type": "stream",
     "text": [
      "39.43354749885268\n"
     ]
    }
   ],
   "source": [
    "# определите средний возраст мужчин, выведите полученные значения\n",
    "man_mean = data[data['sex']== 'Male']\n",
    "print(man_mean[\"age\"].mean())\n",
    "# здесь должен быть ваш код"
   ]
  },
  {
   "cell_type": "markdown",
   "metadata": {
    "_uuid": "ada771f6ca96842c828ab872caa28ffa79774482"
   },
   "source": [
    "**3. Какова доля людей, проживающих в Германии ( признак *native-country* )?**"
   ]
  },
  {
   "cell_type": "code",
   "execution_count": 18,
   "metadata": {
    "_uuid": "4edbe332b55c59e05da5574920b0f91283b7814a"
   },
   "outputs": [
    {
     "name": "stdout",
     "output_type": "stream",
     "text": [
      "137\n"
     ]
    }
   ],
   "source": [
    "# здесь должен быть ваш код\n",
    "count_germany = data[data['native-country'] == 'Germany'].shape[0]\n",
    "print(count_germany)\n"
   ]
  },
  {
   "cell_type": "markdown",
   "metadata": {
    "_uuid": "33938b38d3bcf5651b2b6cb4b77ffee764847aa8"
   },
   "source": [
    "**4-5. Каково среднее значение и стандартное отклонение возраста для людей, которые получают зарплату более чем 50K в год (признак *salary*) и для тех, кто получает меньше, чем 50K в год?**"
   ]
  },
  {
   "cell_type": "code",
   "execution_count": 24,
   "metadata": {
    "_uuid": "94d017ce7c339eae7a13a816cee415527837d802"
   },
   "outputs": [
    {
     "name": "stdout",
     "output_type": "stream",
     "text": [
      "36.78373786407767 44.24984058155847\n",
      "14.02008849082488 10.519027719851826\n"
     ]
    }
   ],
   "source": [
    "# выведите полученные значения\n",
    "bomjz = data[data['salary'] == '<=50K']\n",
    "rich = data[data['salary'] == '>50K']\n",
    "\n",
    "avg_bomjz = bomjz['age'].mean()\n",
    "avg_rich = rich['age'].mean()\n",
    "\n",
    "std_bomjz = bomjz['age'].std()\n",
    "std_rich = rich['age'].std()\n",
    "\n",
    "print(avg_bomjz, avg_rich)\n",
    "print(std_bomjz,std_rich)\n",
    "# здесь должен быть ваш код"
   ]
  },
  {
   "cell_type": "markdown",
   "metadata": {
    "_uuid": "bce4b94a99843606b948b70f5502035223b9b7ba"
   },
   "source": [
    "**6. Правда ли, что люди, получающие более 50 тыс., имеют как минимум среднее образование? (признак *education* значения: *HS-grad, Bachelors, Prof-school, Assoc-acdm, Assoc-voc, Masters* или *Doctorate*)**"
   ]
  },
  {
   "cell_type": "code",
   "execution_count": 34,
   "metadata": {
    "_uuid": "8ca42b7a1befd52dbc72781a7c55505c2fb0909c"
   },
   "outputs": [
    {
     "name": "stdout",
     "output_type": "stream",
     "text": [
      "Количество людей с зарплатой 50K+ и образованием ['HS-grad', 'Bachelors', 'Prof=school', 'Assoc-acdm', 'Assoc-voc', 'Masters', 'Doctorate']: 5787\n",
      "Количество людей с зарплатой 50K+ и плохим образованием:  2054\n"
     ]
    }
   ],
   "source": [
    "# решение должно либо прямо давать ответ на вопрос, или как минимум выводить данные, глядя на которые можно дать на него ответ.\n",
    "education_values = ['HS-grad', 'Bachelors', \"Prof=school\", 'Assoc-acdm', \"Assoc-voc\", 'Masters', 'Doctorate']\n",
    "\n",
    "rich_edu_count_by_grade_high = rich[rich['education'].isin(education_values)].shape[0]\n",
    "rich_edu_count_by_grade_low = rich[~rich['education'].isin(education_values)].shape[0]\n",
    "\n",
    "print(f\"Количество людей с зарплатой 50K+ и образованием {education_values}: {rich_edu_count_by_grade_high}\")\n",
    "print(f\"Количество людей с зарплатой 50K+ и плохим образованием: \" , rich_edu_count_by_grade_low)\n",
    "\n",
    "# здесь должен быть ваш код"
   ]
  },
  {
   "cell_type": "markdown",
   "metadata": {
    "_uuid": "94c7cf8d903653f4f661e079fc84513f61752e57"
   },
   "source": [
    "**7. Среди кого больше доля тех, кто зарабатывает много (>50К): среди женатых или холостых мужчин (признак *marital-status*)? Женатыми считаются те, у кого признак *marital-status* начинается со слова *Married* (Married-civ-spouse, Married-spouse-absent or Married-AF-spouse), остальные считаются холостяками.**"
   ]
  },
  {
   "cell_type": "code",
   "execution_count": 38,
   "metadata": {
    "_uuid": "0d76dd6753edc9e15a3ecf84d7ea9f44cf497e0d"
   },
   "outputs": [
    {
     "name": "stdout",
     "output_type": "stream",
     "text": [
      "6736 1105\n",
      "8681 16039\n",
      "32561\n"
     ]
    }
   ],
   "source": [
    "# решение должно либо прямо давать ответ на вопрос, или как минимум выводить данные, глядя на которые можно дать на него ответ.\n",
    "rich_married = rich[rich['marital-status'].str.startswith('Married') ].shape[0]\n",
    "rich_non_married = rich[~rich['marital-status'].str.startswith('Married')].shape[0]\n",
    "\n",
    "bomjz_married = bomjz[bomjz['marital-status'].str.startswith('Married') ].shape[0]\n",
    "bomjz_non_married = bomjz[~bomjz['marital-status'].str.startswith('Married')].shape[0]\n",
    "\n",
    "print(rich_married, rich_non_married)\n",
    "print(bomjz_married, bomjz_non_married)\n",
    "print(data.shape[0])\n",
    "\n",
    "# здесь должен быть ваш код"
   ]
  },
  {
   "cell_type": "markdown",
   "metadata": {
    "_uuid": "5b47a6400f1deb4d122ed032bc7636200bea288e"
   },
   "source": [
    "**8. Какое максимальное количество часов человек работает в неделю (признак *hours-per-week*)? Сколько людей работают такое количество часов и каков процент тех, кто зарабатывает больше 50К среди них?**"
   ]
  },
  {
   "cell_type": "code",
   "execution_count": 58,
   "metadata": {
    "_uuid": "93ac2854df19a96970e330550c0e1985fb38edc4"
   },
   "outputs": [
    {
     "name": "stdout",
     "output_type": "stream",
     "text": [
      "99 85 25\n",
      "29.41%\n"
     ]
    }
   ],
   "source": [
    "# выведите полученные значения\n",
    "max_workhours = data['hours-per-week'].max()\n",
    "slaves_count = data[data['hours-per-week'] == max_workhours].shape[0]\n",
    "slaves = data[data['hours-per-week'] == max_workhours]\n",
    "\n",
    "slaves_rich = rich[rich['hours-per-week'] == max_workhours].shape[0]\n",
    "\n",
    "print(max_workhours,slaves_count,slaves_rich)\n",
    "print(str(round(slaves_rich/slaves_count*100,2)) + \"%\")\n",
    "\n",
    "# здесь должен быть ваш код"
   ]
  },
  {
   "cell_type": "markdown",
   "metadata": {},
   "source": [
    "**Задание повышенной сложности, за дополнительный бонус:**  \n",
    "**Подсчитайте среднее время работы (признак *hours-per-week*) тех, кто зарабатывает мало и много (признак *salary*) для каждой страны (*native-country*).**"
   ]
  },
  {
   "cell_type": "code",
   "execution_count": 23,
   "metadata": {
    "_uuid": "214675c86e5d7eb24fe64850dc5aa2d7bbf95fa8"
   },
   "outputs": [],
   "source": [
    "# выведите полученные значения или пропустите этот пункт, если задание оказалось слишком сложным для вас\n",
    "\n",
    "# здесь должен быть ваш код"
   ]
  },
  {
   "cell_type": "markdown",
   "metadata": {},
   "source": [
    "**После выполнения ноутбука ответьте в этом поле на следующие вопросы:**  \n",
    "1. Сколько мужчин и женщин (признак sex) представлено в этом наборе данных?\n",
    "2. Каков средний возраст (признак age) мужчин?\n",
    "3. Каков процент граждан Германии (признак native-country)?\n",
    "4. Каковы среднее значение и стандартное отклонение возраста для тех, кто зарабатывает более 50 тыс. в год?  \n",
    "5. Каковы среднее значение и стандартное отклонение возраста для тех, кто зарабатывает менее 50 тыс. в год?  \n",
    "6. Правда ли, что люди, которые зарабатывают более 50 тыс., имеют как минимум среднее образование?  \n",
    "7. Среди кого больше доля тех, кто зарабатывает много (>50 тыс.): женатых или холостых мужчин (признак marital-status)? \n",
    "8. Какое максимальное количество часов человек работает в неделю (признак hours-per-week)? Сколько людей работают такое количество часов и каков процент тех, кто зарабатывает много (>50 тыс.) среди них?\n",
    "9. Если вы подсчитали среднее время работы (hours-per-week) для тех, кто зарабатывает мало и много (salary) для каждой страны (native-country), укажите, какие значения получились для Японии?"
   ]
  },
  {
   "cell_type": "code",
   "execution_count": null,
   "metadata": {},
   "outputs": [],
   "source": []
  }
 ],
 "metadata": {
  "kaggle": {
   "accelerator": "none",
   "dataSources": [
    {
     "datasetId": 32132,
     "sourceId": 205932,
     "sourceType": "datasetVersion"
    }
   ],
   "dockerImageVersionId": 29271,
   "isGpuEnabled": false,
   "isInternetEnabled": false,
   "language": "python",
   "sourceType": "notebook"
  },
  "kernelspec": {
   "display_name": "Python 3",
   "language": "python",
   "name": "python3"
  },
  "language_info": {
   "codemirror_mode": {
    "name": "ipython",
    "version": 3
   },
   "file_extension": ".py",
   "mimetype": "text/x-python",
   "name": "python",
   "nbconvert_exporter": "python",
   "pygments_lexer": "ipython3",
   "version": "3.12.3"
  }
 },
 "nbformat": 4,
 "nbformat_minor": 4
}
